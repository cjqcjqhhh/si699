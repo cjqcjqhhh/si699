{
 "cells": [
  {
   "attachments": {},
   "cell_type": "markdown",
   "metadata": {},
   "source": [
    "# Use Elasticsearch with magi_dataset\n",
    "References:\n",
    "- [Elasticsearch-python](https://elasticsearch-py.readthedocs.io/en/v8.6.2/#)\n",
    "- [magi_dataset](https://github.com/Enoch2090/magi_dataset)\n",
    "## Preparations"
   ]
  },
  {
   "cell_type": "code",
   "execution_count": null,
   "metadata": {},
   "outputs": [],
   "source": [
    "# Install dependencies\n",
    "!pip3 install magi_dataset elasticsearch terminaltables"
   ]
  },
  {
   "attachments": {},
   "cell_type": "markdown",
   "metadata": {},
   "source": [
    "Start Elasticsearch with Docker:\n",
    "```bash\n",
    "docker network create elastic\n",
    "sudo sysctl -w vm.max_map_count=262144  # run this when using WSL2 Docker\n",
    "docker run --name es01 --net elastic -p 9200:9200 -it docker.elastic.co/elasticsearch/elasticsearch:8.6.2\n",
    "```\n",
    "\n",
    "Copy certificate to current directory:\n",
    "```bash\n",
    "docker cp es01:/usr/share/elasticsearch/config/certs/http_ca.crt .\n",
    "```\n",
    "\n",
    "Testing Elasticsearch:\n",
    "```bash\n",
    "curl --cacert http_ca.crt -u elastic https://localhost:9200\n",
    "```"
   ]
  },
  {
   "cell_type": "code",
   "execution_count": null,
   "metadata": {},
   "outputs": [],
   "source": [
    "# Paste password copied from the previous step here\n",
    "ELASTIC_PASSWORD = 'H4SYHVz0tY7RuAaqXV4a'"
   ]
  },
  {
   "cell_type": "code",
   "execution_count": 175,
   "metadata": {},
   "outputs": [
    {
     "data": {
      "text/plain": [
       "ObjectApiResponse({'name': '2abb07847195', 'cluster_name': 'docker-cluster', 'cluster_uuid': 'h5XcXgu-S_6-e9a6XuJKqw', 'version': {'number': '8.6.2', 'build_flavor': 'default', 'build_type': 'docker', 'build_hash': '2d58d0f136141f03239816a4e360a8d17b6d8f29', 'build_date': '2023-02-13T09:35:20.314882762Z', 'build_snapshot': False, 'lucene_version': '9.4.2', 'minimum_wire_compatibility_version': '7.17.0', 'minimum_index_compatibility_version': '7.0.0'}, 'tagline': 'You Know, for Search'})"
      ]
     },
     "execution_count": 175,
     "metadata": {},
     "output_type": "execute_result"
    }
   ],
   "source": [
    "# Imports & inits\n",
    "from magi_dataset import *\n",
    "from elasticsearch import Elasticsearch\n",
    "from elasticsearch.helpers import bulk\n",
    "from dataclasses import asdict\n",
    "from tqdm.auto import tqdm\n",
    "from terminaltables import AsciiTable\n",
    "\n",
    "es = Elasticsearch(\n",
    "    'https://localhost:9200', \n",
    "    ca_certs =  './http_ca.crt',\n",
    "    basic_auth = ('elastic', ELASTIC_PASSWORD)\n",
    ")\n",
    "es.info().body"
   ]
  },
  {
   "cell_type": "code",
   "execution_count": null,
   "metadata": {},
   "outputs": [],
   "source": [
    "# Defining helper functions\n",
    "def upload_to_es(es_instance, data, index:str, batch_size=1000):\n",
    "    bulk_data = []\n",
    "    for i, repo in enumerate(tqdm(data)):\n",
    "        bulk_data.append(\n",
    "            {\n",
    "                '_index': index,\n",
    "                '_id': i,\n",
    "                '_source': asdict(repo)\n",
    "            }\n",
    "        )\n",
    "        if (i + 1) % batch_size == 0:\n",
    "            bulk(es_instance, bulk_data)\n",
    "            bulk_data = []\n",
    "    bulk(es_instance, bulk_data)\n",
    "    es_instance.indices.refresh(index=index)\n",
    "    return es_instance.cat.count(index=index, format='json')   \n",
    "\n",
    "def print_query(response, additonal_fields=[]):\n",
    "    table_data = [\n",
    "        ['name', 'lang', 'link', 'description', 'score', *additonal_fields]\n",
    "    ]\n",
    "    for x in response['hits']['hits']:\n",
    "        table_data.append(\n",
    "            [x['_source']['name'], x['_source']['lang'], x['_source']['link'], x['_source']['description'][:100], x['_score'], *[x[field] for field in additonal_fields]]\n",
    "        )\n",
    "    table = AsciiTable(table_data)\n",
    "    print(table.table)\n",
    "        \n",
    "def print_sql(response):\n",
    "    table_data = [\n",
    "        [x['name'] for x in response['columns']],\n",
    "        *response['rows']\n",
    "    ]\n",
    "    table = AsciiTable(table_data)\n",
    "    print(table.table)\n",
    "    "
   ]
  },
  {
   "cell_type": "code",
   "execution_count": 25,
   "metadata": {},
   "outputs": [],
   "source": [
    "# for lang in ['Python', 'C++']:\n",
    "#     lang_safe = lang.lower().replace('++', 'pp')\n",
    "#     es.options(ignore_status=400).indices.delete(index=f'{lang_safe}-index')"
   ]
  },
  {
   "cell_type": "code",
   "execution_count": 196,
   "metadata": {},
   "outputs": [
    {
     "data": {
      "text/plain": [
       "1543"
      ]
     },
     "execution_count": 196,
     "metadata": {},
     "output_type": "execute_result"
    }
   ],
   "source": [
    "# GitHubDataset data shape\n",
    "data = GitHubDataset(empty=False, file_path=f'rust-latest')\n",
    "len(data)"
   ]
  },
  {
   "cell_type": "code",
   "execution_count": 199,
   "metadata": {},
   "outputs": [
    {
     "data": {
      "text/plain": [
       "{'name': 'denoland/deno',\n",
       " 'link': 'https://github.com/denoland/deno',\n",
       " 'tags': ['deno', 'typescript', 'javascript', 'rust'],\n",
       " 'stars': 88041,\n",
       " 'description': 'A modern runtime for JavaScript and TypeScript.',\n",
       " 'lang': 'Rust',\n",
       " 'repo_lang': '',\n",
       " 'readme': '# Deno\\n\\n[![Build Status - Cirrus][]][Build status] [![Twitter handle][]][Twitter badge]\\n[![Discord Chat](https://img.shields.io/discord/684898665143206084?logo=discord&style=social)](https://discord.gg/deno)\\n\\n<img align=\"right\" src=\"https://deno.land/logo.svg\" height=\"150px\" alt=\"the deno mascot dinosaur standing in the rain\">\\n\\nDeno is a _simple_, _modern_ and _secure_ runtime for **JavaScript** and\\n**TypeScript** that uses V8 and is built in Rust.\\n\\n### Features\\n\\n- Secure by default. No file, network, or environment access, unless explicitly\\n  enabled.\\n- Supports TypeScript out of the box.\\n- Ships only a single executable file.\\n- [Built-in utilities.](https://deno.land/manual/tools#built-in-tooling)\\n- Set of reviewed standard modules that are guaranteed to work with\\n  [Deno](https://deno.land/std/).\\n\\n### Install\\n\\nShell (Mac, Linux):\\n\\n```sh\\ncurl -fsSL https://deno.land/install.sh | sh\\n```\\n\\nPowerShell (Windows):\\n\\n```powershell\\nirm https://deno.land/install.ps1 | iex\\n```\\n\\n[Homebrew](https://formulae.brew.sh/formula/deno) (Mac):\\n\\n```sh\\nbrew install deno\\n```\\n\\n[Chocolatey](https://chocolatey.org/packages/deno) (Windows):\\n\\n```powershell\\nchoco install deno\\n```\\n\\n[Scoop](https://scoop.sh/) (Windows):\\n\\n```powershell\\nscoop install deno\\n```\\n\\nBuild and install from source using [Cargo](https://crates.io/crates/deno):\\n\\n```sh\\ncargo install deno --locked\\n```\\n\\nSee\\n[deno_install](https://github.com/denoland/deno_install/blob/master/README.md)\\nand [releases](https://github.com/denoland/deno/releases) for other options.\\n\\n### Getting Started\\n\\nTry running a simple program:\\n\\n```sh\\ndeno run https://deno.land/std/examples/welcome.ts\\n```\\n\\nOr a more complex one:\\n\\n```ts\\nconst listener = Deno.listen({ port: 8000 });\\nconsole.log(\"http://localhost:8000/\");\\n\\nfor await (const conn of listener) {\\n  serve(conn);\\n}\\n\\nasync function serve(conn: Deno.Conn) {\\n  for await (const { respondWith } of Deno.serveHttp(conn)) {\\n    respondWith(new Response(\"Hello world\"));\\n  }\\n}\\n```\\n\\nYou can find a deeper introduction, examples, and environment setup guides in\\nthe [manual](https://deno.land/manual).\\n\\nThe complete API reference is available at the runtime\\n[documentation](https://doc.deno.land).\\n\\n### Contributing\\n\\nWe appreciate your help!\\n\\nTo contribute, please read our\\n[contributing instructions](https://deno.land/manual/contributing).\\n\\n[Build Status - Cirrus]: https://github.com/denoland/deno/workflows/ci/badge.svg?branch=main&event=push\\n[Build status]: https://github.com/denoland/deno/actions\\n[Twitter badge]: https://twitter.com/intent/follow?screen_name=deno_land\\n[Twitter handle]: https://img.shields.io/twitter/follow/deno_land.svg?style=social&label=Follow\\n',\n",
       " 'readme_type': 'markdown',\n",
       " 'hn_comments': 'lol, very 2022: trolling companies to get them to fix their code.<HN_SEP>Discussion is happening on a newer submission: https://news.ycombinator.com/item?id=29166355<HN_SEP>I would have liked if you had cut a bit on the diversity/privilege BS. I come from Europe where race doesn\\'t matter and hearing about American woke rhetoric is extremely annoying.<HN_SEP>This self flagellation of privilege is tiresome and entirely beside the point.If this person thinks the world would be better if their job was done by a woman or a brown person, they should quit and go look for their replacement. We all know they won\\'t.I wanted to know what it was like to work with Deno. Is this person trying to say the entire community is full of cordycepted progressives?<HN_SEP>I was hoping for some insights on Deno but this was really hard to get through. Most of it is personal stuff, really, and probably more on Rust than Deno. If the title was different I\\'d feel differently, but this was unintentional bait and switch.As someone who uses Deno for side projects, I hope the day will come where I can work with it professionally. Having so much parity with browser APIs and Typescript has been incredible.<HN_SEP>i could see author\\'s guilt to have such a privilege. I am so happy that I am a first-generation Chinese living in North America. The \"Culture Revolution\" of America is not getting to me yet. but i know one day it will get to me, as what happened in China \"Culture Revolution\". No one could escape it.his writing reminds me what those self-confession letters people \"in privilege\" made in China from 50s to 70s. We are just at the beginning of something. Americans are abandoning their belief and values. We are embracing something half-truth and deceiving. So, they will own you before you know it.Please learn the history, my fellow Americans, you are the last defence before that ideology owns the whole world.https://www.thepullrequest.com/p/the-american-diversity-meat...<HN_SEP>We use vercel/pkg to distribute our product as a standalone executable that runs in on-prem windows environments. Our product is actually comprised of multiple NodeJS servers that are spawned as child processes in one master Node procees, and that module gets built using pkg. We also have a windows installer that configures a windows service to run the executable/keep it up. It’s proven to be a really simple way to distribute our app to the enterprise that’s been working for a few years. It doesn’t really protect source code, but provides a decent enough level of obsfuscation for our needs.<HN_SEP>Please help me to understand: If I deploy my apps as Docker images anyway why would I need this? Deno 1.6 just packages the runtime creating a huge file, still smaller than a Docker image but with latter I have a better deployment experience meaning there\\'s a huge ecosystem and tooling around. No rant, just trying to get what I miss.<HN_SEP>Yeah, and the executable is 47 MB. You can do the same thing with Go:    package main\\n    import \"os\"\\n    func main() {\\n       for _, s := range os.Args[1:] {\\n          o, _ := os.Open(s)\\n          os.Stdout.ReadFrom(o)\\n       }\\n    }\\n\\nand the executable is 1 MB.<HN_SEP>Whooooo! Lets go!This is huge!<HN_SEP>Wow that’s really cool. I have a lot of hope for Deno, seems very promising.<HN_SEP>47mb executable for a simple cat command? Huh, there\\'s huge area for improvements indeed<HN_SEP>Whoa!Potentially this can make React Native hit the same performance as Flutter+Dart.as the Dart team claimed - https://hackernoon.com/why-flutter-uses-dart-dd635a054ebf>Dart is one of very few languages (and perhaps the only “mainstream” language) that is well suited to being compiled both AOT and JIT. Supporting both kinds of compilation provides significant advantages to Dart and (especially) Flutter.<HN_SEP>I wish there was a NestJS equivalent to Deno, then I’d consider using it for projects<HN_SEP>Question for those who know better: wouldn\\'t this better be accomplished by some kind of archive/bundle? ie keep the packaging structure intact, but just archive it?<HN_SEP>This is such a good feature. Go has been great for shipping single purpose binaries (like the CLI for https://fly.io), but I really enjoy writing TypeScript more than Go.<HN_SEP>I\\'ve been using vercel/pkg with great success, in order to achieve a similar target and package a whole application into a standalone executable:https://github.com/vercel/pkgThis can be useful for people wanting to do this with Node. It\\'s nice to have a single file that can be started right away without any external dependency. And also, it prevents from having to distribute the full sources. Kudos to the Deno devs who have integrated this option directly into the runtime.<HN_SEP>Once ecosystem grows a bit Deno will be a very good alternative to Node. This particular feature is great for simpler deployment.<HN_SEP>Hey, Bartek from deno.land here.I\\'ll be more than happy to answer your questions about Deno and its development.<HN_SEP>deno seems really amazing.  This is essentially single file distribution of a secure runtime for application code -- that is a lot of platform-capability-bang for the distribution-reach-complexity buck!  This has to already be the best server container format for typical application code in terms of the security possibilities doesn\\'t it?I\\'d almost like to see deno grow some kind of puppeteer based browser api as server-app platform  --http request -> deno server process runtime (with secure sandbox) and puppeteer-like handle to the client browser for state transfer -> client ui render ... it would be quite interesting to\\nthink of the client browser page tabs as a \"child process launched by the server\" rather than as as a stateless request from an http client -- as most server rest api architectures tend to push you towards ...<HN_SEP>How to make it work for mac?<HN_SEP>I wonder if it\\'s possible for TypeScript to be a .NET CLR supported language. It would be great to have a powerful scripting language for the .NET Ecosystem.I know C# can be used for scripting, but I want something like Python, an easy to use, dynamic language that has the performance of the .NET VM<HN_SEP>I really like this.I\\'ve been thinking a lot over the last few years about Docker. Arguably docker is just another abstraction for \"statically linked executable\". But we\\'ve had static executables for years; and they work well, and the ABI for the linux kernel is very stable. So increasingly I\\'m not convinced docker is worth it, compared to just building and deploying bundled executables. And executables can be run anywhere, they don\\'t need a separate testing environment, they can be debugged easily[1], and so on.[1] Well, if you like systemd or have a reasonable replacement.<HN_SEP>Just throwing it out there for visibility, ncc will compile a TS entrypoint down to a single file as well, without having to use Deno https://www.npmjs.com/package/@vercel/nccEdit: I completely missed that this Deno release packaged the runtime as well, disregard this as an alternative! Guess I’ll eat the downvotes I deserve :P<HN_SEP>Does this offer a speed increase vs running the the code directly using \\n$ deno test.js ( not sure what the exact command is )<HN_SEP>Node is almost perfectly matched to the \"Oops, well, too late now\" design ethos of JavaScript itself. Nobody was stupid. We humans just can\\'t really predict what will work out and what won\\'t in the future, and this was one of those frustrating cases like carving in stone, where every mistake you make is permanent.But a combination of various factors made the web an enormously impactful medium. It\\'s too important to take the approach of \"well, let\\'s just add some good stuff to the bad and live with it\" where we don\\'t have to. We have to in the browser, but we don\\'t have to on the server. I want to see the \"benefit of hindsight, rebuild it better\" design of TypeScript matched with a server-side equivalent, which looks like Deno.I hope Deno succeeds.<HN_SEP>Full release notes can be found at https://deno.land/posts/v1.6 :-)<HN_SEP>OT: After reading and discussing this feature in this thread, I realize, it\\'s not about the feature or if it\\'s good or bad.This Deno update and the whole thing shows once again that we want a node successor but Deno as great as it sounds doesn\\'t offer enough benefits or is 10x better than just using node + Typescript in order to leave latter and their huge ecosystem.Even worse, it creates the notion that the Deno team desperately tries to climb back on stage and get our attention with minor improvements. Maybe I am ignorant but Deno feels just like an opinionated node/Typescript distribution with too little improvements but not like the successor we hoped for.Besides, I wonder if the Deno team solved all the performance issues which popped up the last time I\\'ve read about Deno. There were some debates with the ws community but can\\'t remember details anymore.<HN_SEP>It\\'s due any time now but this is a link to RC3.<HN_SEP>',\n",
       " 'gh_updated_time': '',\n",
       " 'gh_accessed_time': '',\n",
       " 'hn_accessed_time': '',\n",
       " '_fully_initialized': True}"
      ]
     },
     "execution_count": 199,
     "metadata": {},
     "output_type": "execute_result"
    }
   ],
   "source": [
    "data[0].__dict__"
   ]
  },
  {
   "cell_type": "code",
   "execution_count": 176,
   "metadata": {},
   "outputs": [
    {
     "name": "stderr",
     "output_type": "stream",
     "text": [
      "100%|██████████| 9720/9720 [00:14<00:00, 669.50it/s]\n"
     ]
    },
    {
     "name": "stdout",
     "output_type": "stream",
     "text": [
      "[{'epoch': '1679871016', 'timestamp': '22:50:16', 'count': '9720'}]\n"
     ]
    },
    {
     "name": "stderr",
     "output_type": "stream",
     "text": [
      "100%|██████████| 3788/3788 [00:05<00:00, 638.05it/s]\n"
     ]
    },
    {
     "name": "stdout",
     "output_type": "stream",
     "text": [
      "[{'epoch': '1679871027', 'timestamp': '22:50:27', 'count': '3788'}]\n"
     ]
    },
    {
     "name": "stderr",
     "output_type": "stream",
     "text": [
      "100%|██████████| 10976/10976 [00:13<00:00, 815.42it/s]\n"
     ]
    },
    {
     "name": "stdout",
     "output_type": "stream",
     "text": [
      "[{'epoch': '1679871051', 'timestamp': '22:50:51', 'count': '10976'}]\n"
     ]
    }
   ],
   "source": [
    "# Create indices and upload data\n",
    "for lang in ['Python', 'C++', 'JavaScript']:\n",
    "    lang_safe = lang.lower().replace('++', 'pp')\n",
    "    es.options(ignore_status=400).indices.create(index=f'{lang_safe}-index')\n",
    "    data = GitHubDataset(empty=False, file_path=f'{lang_safe}-latest')\n",
    "    print(\n",
    "        upload_to_es(\n",
    "            es, \n",
    "            data, \n",
    "            index = f'{lang_safe}-index', \n",
    "            batch_size = 3000\n",
    "        )\n",
    "    )"
   ]
  },
  {
   "cell_type": "code",
   "execution_count": 202,
   "metadata": {},
   "outputs": [
    {
     "data": {
      "text/plain": [
       "{'_index': 'python-index',\n",
       " '_id': '99',\n",
       " '_version': 3,\n",
       " '_seq_no': 19539,\n",
       " '_primary_term': 1,\n",
       " 'found': True,\n",
       " '_source': {'name': 'Textualize/textual',\n",
       "  'link': 'https://github.com/Textualize/textual',\n",
       "  'tags': ['terminal', 'python', 'tui', 'rich', 'cli', 'framework'],\n",
       "  'stars': 17744,\n",
       "  'description': 'Textual is a TUI (Text User Interface) framework for Python inspired by modern web development.',\n",
       "  'lang': 'Python',\n",
       "  'repo_lang': '',\n",
       "  'readme': '# Textual\\n\\n![Textual splash image](https://raw.githubusercontent.com/Textualize/textual/main/imgs/textual.png)\\n\\nTextual is a *Rapid Application Development* framework for Python.\\n\\nBuild sophisticated user interfaces with a simple Python API. Run your apps in the terminal and (coming soon) a web browser!\\n\\n<details>  \\n  <summary> 🎬 Demonstration </summary>\\n  <hr>\\n  \\nA quick run through of some Textual features.\\n  \\n\\n\\nhttps://user-images.githubusercontent.com/554369/197355913-65d3c125-493d-4c05-a590-5311f16c40ff.mov\\n\\n\\n\\n </details>\\n\\n\\n\\n## About\\n\\nTextual adds interactivity to [Rich](https://github.com/Textualize/rich) with an API inspired by modern web development.\\n\\nOn modern terminal software (installed by default on most systems), Textual apps can use **16.7 million** colors with mouse support and smooth flicker-free animation. A powerful layout engine and re-usable components makes it possible to build apps that rival the desktop and web experience. \\n\\n## Compatibility\\n\\nTextual runs on Linux, macOS, and Windows. Textual requires Python 3.7 or above.\\n\\n## Installing\\n\\nInstall Textual via pip:\\n\\n```\\npip install \"textual[dev]\"\\n```\\n\\nThe addition of `[dev]` installs Textual development tools. See the [docs](https://textual.textualize.io/getting_started/) if you need help getting started.\\n\\n## Demo\\n\\nRun the following command to see a little of what Textual can do:\\n\\n```\\npython -m textual\\n```\\n\\n![Textual demo](https://raw.githubusercontent.com/Textualize/textual/main/imgs/demo.png)\\n\\n## Documentation\\n\\nHead over to the [Textual documentation](http://textual.textualize.io/) to start building!\\n\\n## Examples\\n\\nThe Textual repository comes with a number of examples you can experiment with or use as a template for your own projects.\\n\\n\\n<details>\\n  <summary> 🎬 Code browser </summary>\\n  <hr>\\n\\n  This is the [code_browser.py](https://github.com/Textualize/textual/blob/main/examples/code_browser.py) example which clocks in at 61 lines (*including* docstrings and blank lines).\\n\\nhttps://user-images.githubusercontent.com/554369/197188237-88d3f7e4-4e5f-40b5-b996-c47b19ee2f49.mov\\n\\n </details>\\n\\n\\n<details>  \\n  <summary> 📷 Calculator </summary>\\n  <hr>\\n  \\nThis is [calculator.py](https://github.com/Textualize/textual/blob/main/examples/calculator.py) which demonstrates Textual grid layouts.\\n  \\n![calculator screenshot](https://raw.githubusercontent.com/Textualize/textual/main/imgs/calculator.png)\\n</details>\\n\\n\\n<details>\\n  <summary> 🎬 Stopwatch </summary>\\n  <hr>\\n\\n  This is the Stopwatch example from the [tutorial](https://textual.textualize.io/tutorial/).\\n  \\n\\n\\nhttps://user-images.githubusercontent.com/554369/197360718-0c834ef5-6285-4d37-85cf-23eed4aa56c5.mov\\n\\n\\n\\n</details>\\n\\n\\n\\n## Reference commands\\n\\nThe `textual` command has a few sub-commands to preview Textual styles.\\n\\n<details>  \\n  <summary> 🎬 Easing reference </summary>\\n  <hr>\\n  \\nThis is the *easing* reference which demonstrates the easing parameter on animation, with both movement and opacity. You can run it with the following command:\\n  \\n```bash\\ntextual easing\\n```\\n\\n\\nhttps://user-images.githubusercontent.com/554369/196157100-352852a6-2b09-4dc8-a888-55b53570aff9.mov\\n\\n\\n </details>\\n\\n<details>  \\n  <summary> 🎬 Borders reference </summary>\\n  <hr>\\n  \\nThis is the borders reference which demonstrates some of the borders styles in Textual. You can run it with the following command:\\n  \\n```bash\\ntextual borders\\n```\\n\\n\\nhttps://user-images.githubusercontent.com/554369/196158235-4b45fb78-053d-4fd5-b285-e09b4f1c67a8.mov\\n\\n  \\n</details>\\n\\n\\n<details>  \\n  <summary> 🎬 Colors reference </summary>\\n  <hr>\\n  \\nThis is a reference for Textual\\'s color design system.\\n  \\n```bash\\ntextual colors\\n```\\n\\n\\n\\nhttps://user-images.githubusercontent.com/554369/197357417-2d407aac-8969-44d3-8250-eea45df79d57.mov\\n\\n\\n\\n  \\n</details>\\n\\n',\n",
       "  'readme_type': 'markdown',\n",
       "  'hn_comments': 'The notion of fire-and-forget is itself the problem. Even with threads, you should have them join the main thread before the program exits. Which implies you should hold strong references to them until then. Most people don\\'t go out of their way to do this even when they\\'re able to, but that\\'s what you\\'re supposed to do.<HN_SEP>Wow. What a strange design decision, as evidenced by sheer number of developers who don\\'t / didn\\'t know about this (myself included). I hope this gets fixed instead of just documented.<HN_SEP>As someone who happens to be eternally grateful to the author for his contribution to the Python ecosystem [0], I kinda feel like this comment thread is overreacting to his overreaction. When I look at this post all I see is a useful, well explained, byte-size writeup that a search engine might recommend to someone looking for help in writing async Python.Maybe it\\'s because a bunch of my friends are Scottish and I get their sense of humour.[0]: https://rich.readthedocs.io/ (yes I\\'m talking about the fancy new progress bar that pip got recently)<HN_SEP>This issue doesn\\'t exist with Trio\\'s structured concurrency model. In other words, the problem is already solved.<HN_SEP>The note in the official Python documentation was only added in September 2022 [1], so no wonder this comes as a surprise to many![1] https://github.com/python/cpython/commit/6281affee6423296893...<HN_SEP>[flagged]<HN_SEP>This is a great blog post. Concise, lacking fluff or extraneous prose, it gets right to the point, presents the primary-source reference and then gets right to the solution. A bit of editorializing in the middle but that\\'s completely allowed when writing this tightly. Well damn done, OP.And also it\\'s great information that I - like I\\'m sure many of you - also never noticed. THANK YOU!<HN_SEP>There\\'s a similar thing in tkinter but I guess users discover it faster, since the failure if you don\\'t save the reference shows up fairly quickly.<HN_SEP>I experienced a heisenbug exactly like this in Ruby when trying to `while case Ractor::receive`: https://github.com/okeeblow/DistorteD/blob/dd2a99285072982d3...<HN_SEP>A better title would be “Bug lurks in incorrect usage of async Python”.The library documentation clearly calls this out, and incorrect implementations, while buggy, do not mean that async Python is itself buggy.<HN_SEP>Thank you! I just did a quick `git grep` in a work code base and found one clear instance of this bug, and two more locations where I\\'m not 100% certain whether references are kept around long enough. Made a note to open a bug on Monday :-)Another surprise in python\\'s base library:\\nI knew that re.search searches for a regex match in a string, so I thought that re.match would match the whole string. I was wrong, re.match only anchors the regex at the start, not the end. re.fullmatch anchors it at both sides.I felt very stupid when I found out; I started at my current work as a Perl developer and learned Python for a new job; but there are two more Python developers (with previous Python experience outside this company) on the same project, and none of them noticed the mistakes I made based on this misunderstanding.<HN_SEP>I think asyncio is kind of neat for what it\\'s good at, but beginner programmers who have never wrote code before are going directly to using Python asyncio (i know this because they are telling me so when they post sqlalchemy discussions).   This is just wrong.<HN_SEP>The response here makes me think most commenters don’t have experience with this particular footgun.To clarify: Python can gc your task before it starts, or during its execution if you don’t hold a ref to it yourself.I can’t think of any scenario in which you’d want that behavior, and it is very surprising as a user.Python should hold a ref to tasks until they are complete to prevent this. This also “feels right”, in that if I submit a task to a loop, I’d think the loop would have a ref to the task!It’d be interesting to dig up the internal dev discussions to see why the “fix this” camp hasn’t won.<HN_SEP>Java had a similar but inverse problem in early versions. A counter-intuitive behavior that bit people and caused leaks.If you instantiated a Thread, and then start() was never called, that thread object would leak. And thus potentially an entire graph of objects, via the references chains beneath it.Obviously a thread that is never started seems pointless by design. But it could happen easily if, for an example, an error happened or an exception was thrown at some point between the instantiation line and the call of start().The root cause was because Sun\\'s programmers had made the early implementations of Thread get added to a ThreadGroup by default, under the hood. What would happen is that ThreadGroup stayed alive/reachable and thus it kept your app\\'s thread object reachable too, and thus the GC would never clean it up. It was never eligible.It ended up being the cause of a few weird leaks we saw in production.IIRC in Java 1.4 or 1.5 Sun fixed it by ensuring the thread got cleaned up in those cases.<HN_SEP>I\\'m using a lot of `asyncio.get_event_loop().create_task(...)` calls without assigning the task to a variable, but the docs [0] don\\'t mention anything regarding this method on the loop object. Can I assume that I\\'m safe?[0] https://docs.python.org/3/library/asyncio-eventloop.html?hig...<HN_SEP>This is one of many reasons I\\'m sceptical of the current trend in Python to \"async all the things\". The nuance to how it operates is often opaque to the developer, particularly those less experienced.GUI toolkits (like Textual) however are a really good use case for Asyncio. Human interaction with a program is inherently asynchronous, using async/await so that you can more cleanly specify your control flow is so much better than complicated callbacks. Using async/await in front end JS code for example is a delight.Where I\\'m particularly unconvinced of their use is in server side view and api end point processing. The majority of the time you have maybe a couple of IO opps that depend on each other. There is often little than can be parallelised (within a request) and so there are few performance gains to be a made. Traditional synchronous imperative code run with a multithreaded server is proven, scalable and much easier to debug.There are always places where it\\'s useful though, things such as long running requests (websockets, long polling), or those very rare occurrences where you do have many easily parallelizable IO opps within one short request.<HN_SEP>It is for this reason in Temporal Python[0], where we wrote a custom durable asyncio event loop, that we maintain strong references to tasks that are created in workflows. This wouldn\\'t be hard for other event loop implementations to do too.0 - https://github.com/temporalio/sdk-python<HN_SEP>Does anyone understand why the event loop only keeps weak references to tasks? It\\'d seem wise to do something to stop it from being garbage collected while running, maybe also while waiting to run.<HN_SEP>Well, looks like I know what I am doing first thing on Monday. I converted a bunch of code to asyncio a while back. I have yet to run into any heisenbug in that code and want to keep it that way.<HN_SEP>I\\'ve been working on a PySide6 application recently using asyncio. I read the docs but totally overlooked the requirement to hold references to tasks created with `create_task()`.<HN_SEP>Eww. What\\'s especially nasty is this is the opposite behavior of threads.<HN_SEP>I really think this writer doth protest too much.Yes, the base async interface is confusing and overly complex. It\\'s a downside! As they note lots of people have stepped in to provide better helpers (like TaskGroups) - but these are the docs for the base library!> But who reads all the docs? And who has perfect recall if they do?Everyone reads the docs? That is why you don\\'t need perfect recall because you can read them whenever you want.Python has lots of confusing corner cases (\"\" is truthy, you need to remember to call copy [or maybe deepcopy!] sometimes, all the other situations where you confuse weak v.s. strong references). They cause really common bugs. It\\'s just a hazard of the language in general and the choices it makes (much like tasks being objects is a hazard). I do understand why people think they can throw away task references (based on other languages) - but this is Python! The garbage collector exists and you gotta check if you own the object or something else does.Edit: this feels like an experienced Python developer, who has already internalized all the older, non-async Python weirdness, being taken aback by weirdness they didn\\'t expect. Like, I feel you, it does suck - but it\\'s not a bug that values you don\\'t retain may get garbage collected.<HN_SEP>He doesn’t really get into what makes this a Heisenbug, only that it’s indeterminate in nature. Would attaching a debugger/stepping through the code make it less likely that your task would get garbage collected out from under you?<HN_SEP>I missed this in a little curses program launcher I wrote.It looks obvious when he puts a big orange box around it, but in the actual docs it\\'s an unassuming paragraph between two border-wrapped blocks with the only distinguishing feature being the bold \"Important\".It should probably be referenced immediately next to the \"Return the Task object\" sentence.<HN_SEP>His argument hinges on \"I can\\'t be bothered to read the docs on the stuff I\\'m using.\" So instead of reading the docs on coroutines and tasks before using them, writes a rant about how it\\'s all wrong because he didn\\'t understand how it works.On a more fundamental level, why would anyone assume that a coroutine is guaranteed to complete if it is never awaited? There is no reason a scheduler could not be totally lazy and only execute the coroutine once awaited.At least he bothered to make note of TaskGroups, also clearly shown in his documentation screenshot, immediately above the section marked Important that went ignored, and finishes with \"As long as all the tasks you spin up are in TaskGroups, you should be fine.\" Yep, that\\'s all there was to it.<HN_SEP>Hrmmmm.> But who reads all the docs?asyncio.create_task() doesn\\'t exist in 3.6, and I can\\'t find the string \"to avoid a task disappearing\" in the doc, so I\\'ll go out on a limb: there is no such doc. However I see the reference to weakref.WeakSet.<HN_SEP>Maybe grafting async onto a single threaded dynamic language just isn\\'t such a good idea in the first place.<HN_SEP>This one seems quite easy to fix - just have the scheduler check that task objects have a positive refcount before running them, including the first time.<HN_SEP>Python has a few weird issues like this. The last one I encountered was with a class inheriting Thread, join and the SQL Server ODBC driver on Linux. Fairly sure I hit page faults thanks to a shallow copy on driver allocated string data but didn\\'t have the time to investigate like the hero of this blog post.<HN_SEP>> But who reads all the docsWhy is this so common?  Do people seriously not read a language/library documentation?  That\\'s the absolute first thing I do when evaluating a technology.<HN_SEP>This article just makes me feel like Python, while a language with nice-ish syntax, is a language that was poorly hacked and put together with little concern/thought about the real-world implications of poor design decisions like this async design decision (and also dynamic typing – a terrible thing in any language).<HN_SEP>Fun stuff. Why aren\\'t unfinished tasks gc roots?<HN_SEP>There\\'s a GitHub issue to fix this, arguing that the doc fixes are insufficient, consider it to be a design mistake, and argue that it can be changed without breaking backwards compatibility (current GC  behavior is not deterministic): https://github.com/python/cpython/issues/91887Latest reply from GvR is invoking Chesterton\\'s Fence. Here\\'s to hoping the devs can quickly figure that one out and get this fixed. Per the linked issues [1] even the stdlib asyncio implementation was affected.[1] https://github.com/python/cpython/issues/90467<HN_SEP>Great post. Feels like something a linter should catch.<HN_SEP>Another common async footgun I see is unthrottled gathering, and no throttling mechanism in the standard library. Once you gather an unspecified number of awaitables, bad things start to happen, either with CPU starvation, local IO starvation, or hammering an external service.What I like about threads is they make dangerous things like this harder, and you have to put more thought into how much concurrent work you want outstanding. They also handle CPU starvation better for things that are latency-sensitive. I\\'ve seen degenerate requests tie up the event loop with 500 ms of processing time.<HN_SEP>Something linters can help with would think?<HN_SEP>Unfortunately we don\\'t support python yet, but if you ever encounter a similar heisenbug in JS, you can try recording it with Replay.io<HN_SEP>Start a thread/greenthread/fiber/process/task without holding a reference to at least tie all loose ends at exit? Hmm dunno.<HN_SEP>In many years since asyncio has been added, I have never used it willingly, outside of the cases where a third-party library required it.  There has never been a practical benefit for any of that stuff when compared to select.  It always worked poorly and never justified the effort one has to put into writing code that uses the library.  The behavior OP describes is just one of the many bad design decisions that are so characteristic of this library.<HN_SEP>Reading this was like the first time I read \"for/else\". \"wtf?!\" was my first reaction, then I read the documentation.<HN_SEP>I don’t find this behavior odd at all. Dereferencing unassigned values is normal Python garbage collector behavior. Threads are an exception (no pun intended), but they’re an exception in lots of ways - just try pickling them.<HN_SEP>Thank you for this. This is really useful information.I recently adapted some garbage collection code to add register scanning.I can imagine all sorts of subtle bugs where things go away randomly. One problem I have with my multithreaded code is that sometimes a thread crashes and the logs are so long I don\\'t notice. From my perspective the thread is just not doing anything.Sometimes the absence of behaviour can be really tricky to debug!<HN_SEP>Is this something go developers also have to be careful with when using goroutines?<HN_SEP>Well, this explains that one really annoying intermittent bug that I was having in some asyncio-based code.<HN_SEP>Delphi had the opposite bug in its thread pool. The worker threads would dequeue a work item and process it in a loop. The work items were reference counted.Now, Delphi doesn\\'t have scoped variable declarations like say C++ or C#, so the dequeued work item was stored in a local variable. However, it didn\\'t drop (nil/null) the work item reference before it looped. Thus it would hang on to that reference until the next work item got dequeued or the pool was destroyed.The result was that if you in a function started a task which captured a local reference (f.ex. using an anonymous function) and then waited for it, that reference could live after your function returned if the pool didn\\'t have anything else to do. Not what most people would expect.<HN_SEP>The same problem or something similar exists in many languages. Threads are GC roots because the OS knows about them, but this may not be true for lightweight threads or async callbacks.It is hard to fix because you don’t want to introduce references from an old object (such as a list of callbacks) to many new objects as that will introduce GC issues, and many other potential leaks.<HN_SEP>It seems like the library should retain a handle on the task until it completes.<HN_SEP>If I want to create a task that runs even after the function returns, ie \"async def f(): asyncio.create_task(coro=10_second_coro.run()); return;\" is there any way to mitigate this? Function-scoped set of tasks?<HN_SEP>Thank you!<HN_SEP>That seems very odd for a default behavior. There might be good reasons to allow GCing of a dropped task reference, but it doesn\\'t seem like that would be the most common case.<HN_SEP>Thanks for posting.<HN_SEP>Hey, at least it\\'s documented... good developers actually RTFM.I can\\'t comment on the design of this API, because I don\\'t feel like learning the library, but in some performance critical applications these sorts of contracts aren\\'t all that uncommon. Granted, this is python, I guess it\\'s a bit more suspicious, IDK.<HN_SEP>A little pedantic but HUP concerns the fundamental limits of simultaneously knowing a particle\\'s position and momentum, not about observation impacting outcomes.<HN_SEP>I\\'ve used asyncio.create_task forever, and I\\'ve admittedly never read its documentation in depth.However, I\\'ve ALWAYS assigned the return value of create_task to some variable.To me this is just a good programming practice. The OP says \"tasks are not like threads - that you can just launch and forget\" - no! Even a thread should not simply be launched and forgotten! You always need a reference to it, so when your application is terminated you can join all the threads that are still running and things can exit in a clean way! Same goes for the tasks: when your application exits, it\\'s just a good practice to stop the even loop and cancel any pending tasks.And, in general, one should always keep in mind the reference count rule in Python (the author incorrectly calls it \"garbage collection\" btw): if something you created in your function isn\\'t referenced/assigned to anything, then its reference count will be zero, and it will be removed when the function stack unwinds. This is totally expected behaviour to me.<HN_SEP>wow.  yeah, this absolutely explains a heisenbug that i\\'ve been chasing for a while.  and i can\\'t count the number of times i\\'ve had that exact doc page open on my screen in the last few months, and never bothered to read that block of text that starts with \"important\"...thanks<HN_SEP>The oop model (or any \"client\" model of state) dependent on state outside your code being encapsulated/contained inside an object within your program is always confusing. It\\'s not particular to this library or python.A gui window handle within your program, or simply an open file handle, if the OS does something to your object, it\\'s hard for you to know about it, and your object continually needs to refresh its state if you are concerned about it. I don\\'t know what is referred to as a \"task\" in this case, but I don\\'t think the lifetime of the actual task is the issue, it\\'s the lifetime or your object.It\\'s always the case that if you instantiate an object with a ctor, you can\\'t count on anything about it continuing if the dtor is invoked. The problem is much more general than this API, this library, this language, this use case. Just as you need to structure your C code so malloc and free will always match up spatially and temporally, you need to structure your oop code so ctors and dtors match up sensibly. Otherwise the confusion in your head will spread to your code.And those who always want the compiler and tools to automatically do as much as possible to free them from the burden, are the ones who are most surprised by Heisenbergs. Computers can (or will try to) do anything, it\\'s up to you to make sure it does what it needs to. Maybe someday AIs will do it better than us, but right now you need to provide the I.<HN_SEP>So a `Task` object is in fact the actual task, rather than a handle or pointer to the actual task.<HN_SEP>That\\'s extremely insidious. I suppose I never encountered this issue because I almost always call asyncio.gather(*), which makes having a collection of tasks natural.<HN_SEP>And this is why trio got it right, and why I think the task groups (nurseries from trio) can\\'t arrive soon enough in the stdlib.Because not only you must maintain a reference to any task, but you should also explicitly await it somewhere, using something like asyncio.wait() or asyncio.gather().Most people don\\'t know this, and it makes asyncio very difficult to use for them.<HN_SEP>I\\'ve been playing around rust generative art (nannou) and shader toys on top of alacritty to experiment with other types of visual feedback and other types of interactions in the terminal, not just at GPU level, granted early stages make it convoluted but IMHO still bearable, https://github.com/sebosp/chartacritty<HN_SEP>I’m really exited about the work you guys are doing.That tab and easing animation is jaw dropping. I can’t shake the “that shouldn’t be possible in a terminal” feeling. In a good way.And git diff | dunk seems really useful.Keep going and posting.<HN_SEP>How does Textualize make money?I played with Textual and Rich over the weekend. I found it super compelling to use TUI forms to generate json or other kinds of configs. I particularly like the faux CSS for styling and modeling UI updates as reactive components.Before I invest further with it, I\\'m curious where this is all headed and if there will continue to be sustainable development in the future.<HN_SEP>[dead]<HN_SEP>Textual looks nice. I\\'ve been a happy Urwid user for years, can someone with experience with both can do a quick comparison? Urwid development seems stalled (no commit for 6 months). Is it now possible to embed a terminal as a widget with Textual (with Urwid it\\'s possible)?I\\'m wondering also how Rich compares to something like Python Prompt Toolkit.<HN_SEP>This is an interesting framework, it\\'s refreshing in that you don\\'t need to bootstrap a whole web browser (electron) to build a user interface.I don\\'t really see it\\'s use case though, mostly cli is used for either:A) Ability to run in automated environments (e.g CI) - think aws cliB) Interop, think piping data from grep to xargsC) Hacking - writing a script quick and dirty to just get a job doneI\\'d have thought if I was investing enough time to think about user interface, I\\'d just build my tool in Qt/GTK/JavaFX/Electron etcThough I can see the argument that if I was building an app with keybinds as controls rather than mouse primarly, probably a framework like this would be the way to go.<HN_SEP>@willm Textual (and Rich) freakin\\' rock!  Thank you so much for your hard work makin\\' them great!<HN_SEP>I have a very specific use case: I want to have a UI interface around images generated by the kitty graphics protocol. Kitty, the terminal emulator, can render images in full resolution, which has been so helpful for viewing plots over ssh. I made a hacky ui for generating plots as I need them using prompt-toolkit, but having a proper TUI library that supports images would be so much nicer<HN_SEP>Has TUI accessibility improved at all?Textualize (Python), Charm (Go) and tui-rs/Cursive (Rust) make building TUI apps appealing, but I\\'m put off by the idea of making apps like this if they have no screenreader support.<HN_SEP>I went through a TUI phase recently and investigated a slew of these projects.  In the end, I just used ncurses, there\\'s no real point in using anything else.\\nThe biggest problem (that also affects Textualize) is poor or lacking documentation.  But really the fundamental issue is that ncurses is all you need and it already covers all the edges and weird terminals etc.<HN_SEP>The terminal still has and always will have great potential as the glue that holds all computing together. Users refine their skill in a few, interoperable and flexible standard tools, and any command that turns out to be useful can immediately be part of a script that automates and simplifies this task forever.It all hinges not necessarily on more fanciness in the terminal, but on the availability of data to work on, on other systems to open their data to the terminal in some way. Many SAAS tools have no interest or incentive to do that; is the trend going away from data available the terminal? Example, Kibana and Splunk are silos that provide powerful ways to analyze logs - what else could you possible want more?Well, even the most sophisticated logfile queries can be repetitive, and those advanced search patterns could be distilled into a script that follows the user\\'s hunches, add a bit of an ad-hoc regression test, correlate it with data from elsewhere, take user input from log files and use it in automated tests, maybe feed it all into a terminal based statistical analysis tool? I don\\'t see myself doing any of that, the devs want a clickable link to the relevant Kibana and they are getting that.More colors in terminals are nice but is it enough to make a difference?<HN_SEP>Looks nice. But I’m not sure it’s worth the effort to build a “heavy” app in a TUI over a native app in Dear ImGui or similar.I’ve used Araxis Merge as my diff tool for over a decade. It’s great. I don’t think there’s significant value in reimplementing something in a TUI just for the sake of it.Nothing wrong with new tools to make building TUI’s easier. I just wish the examples were providing new capabilities rather than old capabilities in a very similar but slightly different form factor.<HN_SEP>First time I heard about Rich and Textual. Very impressive work, will definantly use it for something. Thank you to all involved.<HN_SEP>Looks like I am reading an UNIX magazine article back in 1992.<HN_SEP>It\\'s not quite ready yet, but I\\'m writing something similar for Rust [0]. It\\'s much more similar to React (with respect to components, and hooks), and the DSL is inspired by SwiftUI.Disclaimer: Version 0.6.x has a pretty severe flaw where the constraints around hook order are way too strict, and this also prevents conditional renders [1]. I\\'m working on a full rewrite which will be released as version 0.7.0, which exists on github as a branch right now [2]. Docs also exist for an alpha version of 0.7.0 [3].[0]: https://docs.rs/intuitive/latest/intuitive/[1]: https://github.com/enricozb/intuitive/issues/4[2]: https://github.com/enricozb/intuitive/tree/0.7.0[3]: https://docs.rs/intuitive/0.7.0-alpha.0/intuitive/index.html<HN_SEP>Wow, I used to like midnight commander a lot but moved away from it. Seeing things like that being built relatively easily makes me want to try using this for my personal project! Good work.<HN_SEP>This is great work<HN_SEP>Impressive work! I am not trying to diminish the awesome work done here but I think all of this is already possible in Emacs, right? And Emacs an be made to run in Terminal if the user wants it to, right?Now I am not someone who would ask creators not to build something new because something like it already exists. By all means build new stuff and create new tools. It providers options and choice for user. So I fully support work like this.But I also ponder about user behavior. New users who flock to the modern terminal tools need to learn new keybindings, new shortcuts, new workflows. Yet they are willing to invest that time in learning these modern terminal tools. But many of the same users are averse to investing that time in Emacs. Why is that? What explains this?EDIT: Downvoters, care to explain what about this comment violates this site\\'s guidelines? My comment is an honest question. You can post comments and explain if you disagree with my premise. But downvoting isn\\'t helping me learn anything.<HN_SEP>\"Please use animation sparingly.\"So... Doom?<HN_SEP>To be honest I am wondering what these people did not understand about terminals?A terminal is not meant to resemble graphical UIs with all those whistles and bells! Looks like I am the only one who is wondering :D ;)<HN_SEP>cool! something like this for golang?<HN_SEP>Textual code-monkey here. Happy to answer any questions, if you have any.<HN_SEP>TUI apps have always scratched a certain itch for me. Nice!<HN_SEP>Textual is a project I started in 2021 to build a TUI framework on top of Rich.I did a Show HN back in August 21: https://news.ycombinator.com/item?id=28106389At the time, it was purely a hobby project, but a lot has happened since then. I was VC funded (nobody was more surprised than me) and since January, Textual has been my full-time gig.This version adds a CSS renderer and more powerful layout engine, which enables some really interesting features such as live editing.We\\'ve also added a websockets based console app for logging, which restores print style debugging when testing your TUI.This release has documentation. Which you can find here:https://textual.textualize.io/Github repository:https://github.com/Textualize/textualTextual is still very much a work in progress, but it is way more stable now.Textualize (the company) is currently 3 developers based in Edinburgh, Scotland. We recently hired dev no.3 and we have a fourth starting this year.<HN_SEP>Every time I see this project, I think it looks awesome and useful, but I hate that it\\'s written in python. I love python and I use it all the time, but I hate to see so much effort and innovation going into something that can only be used by this one language. If this had been written in C, Zig, Rust or some other language that produces easily embeddable binaries with a C API, then you could have idiomatic APIs for lots of languages instead of having to repeatedly reinvent the wheel.I don\\'t mean that as any kind of insult to the people who work on this project -- I\\'m sure writing it in python is way more pleasant than writing in C. I\\'m just bummed that projects I have in mind that I intend to write in a language other than python can\\'t use this.<HN_SEP>There\\'s something I can\\'t figure out from the docs/examples. Does textual rely on taking over the terminal, or can I also render static output? I\\'m thinking of an app that has both batch and interactive mode with only minor differences in the display.<HN_SEP>I\\'ve been so excited about this since I tried an early version last year!I\\'ve been playing with the beta and I can\\'t wait to build more things with it.Thanks for all the hard work folks!<HN_SEP>Recent and informing Changelog podcast with OP and Textual author, https://changelog.com/podcast/511.<HN_SEP>Looks great. My first reaction to the title was.... \"Textual TUI..... As opposed to...?\"<HN_SEP>The new tutorial is fantastic: https://textual.textualize.io/tutorial/It\\'s worth working through it even if you\\'re not planning to build a TUI app, just to appreciate how well designed the tutorial itself is.<HN_SEP>Have any one seen accessible  TUIs for blind users?<HN_SEP>Textualize (Python) and BubbleTea (GoLang) are really great options for building TUIs. But it seems that the defacto option in the nodejs space has not been updated since 2016 [1].Are there any TS based TUI libraries that are mature and actively developed?[1] https://github.com/chjj/blessed<HN_SEP>As everyone keeps saying, this project looks and feels amazing. A beautiful foundational tool to build a project around.Except...I\\'m scared when I think about VC money here. One day someone is going to want a return on that investment and not sure how that will play out.Imagine if ncurses decide to charge a license fee out of the blue...Or perhaps more likely in this scenario, one day the framework stops getting updated, then gets rebranded as the community edition, and no longer receives important and/or timely updates.I\\'m all for developers making an excellent living, just need to know my own risk factors when investing in tooling and frameworks, etc. It\\'s hard to know here what the future will bring.Then again, there is no really compelling alternative to this most awesome creation!<HN_SEP>I really like using the terminal and I even really like TUI applications.\\nBut still, I can not believe this is a good idea.Every TUI is an enormous hack, legacy piled on top of legacy, trying to twist a simple terminal into a general purpose graphics graphics library. Frankly, a terminal shouldn\\'t support 16 Million colors.The thing which I really want to exist is a (relatively) simple character based GUI library. Something where \"draw this character at x,y in that style\", does not rely upon magic chants of escape sequences. And you can lay out a simple GUI based entirely on characters, exactly as if you were creating a TUI, without any of the baggage.<HN_SEP>I\\'ve previously tried using Textual and felt that it wasn\\'t quite ready. From everything I\\'ve seen, I think that changes with this release, but I\\'ll have to use it to confirm. Really happy to see it launch! Looking forward to seeing what this inspires.<HN_SEP>There’s something about eking out features that were never intended from a protocol that’s fascinating to me. I’ve seen the smooth scrolling a couple of times by now and it’s still hard to believe.Do you guys have a link showing how you managed to pull those tricks? Smooth redraw and bevels around buttons for instance.As someone who has drawn my share of simple boxes with scape sequences in the past decades, I’d love to know what you guys figured out that we missed.Thanks and congratulations.<HN_SEP>I did a little \"unboxing\" video: https://youtu.be/WLwVnYb5Adw<HN_SEP>SVG screenshots!<HN_SEP>Lots of praise here, well deserved from what I can see.For those loving Textual, can I ask why you’d use this over, say, a web UI?There’s a joy to using well made libraries and frameworks like this, but apart from that I’m having a hard time justifying this to myself for projects and keen to hear what others are using it for where it’s a better fit than other types of UI.<HN_SEP>I think Textual would be amazing tool for building advanced dev tools. As a Python web developer I would love an interactive development server / debugger. Imagine a ui showing all requests to your dev server (normal, Websockets, or long poling / SSE) and being able to expand the details and drill down the stack frames. See the context to your templates. Or being able to pause a request at a break point and step through. Add in the ability to see background tasks in the task queue and have the same level of insight. All interactive from the terminal with a beautiful textual UI.If only there was more time.<HN_SEP>I can sort-of see a business model where they host SSH-based applications -- ideally with a Mosh option. As a user, I log in and get a menu of the different applications I am subscribed to that they host, or I can ssh-exec a particular application, perhaps with the option to reconnect to an application that I had open a moment ago. Perhaps being able to text-screen-share so that I can train someone else up would be good (for customer support).I would expect that this kind of infrastructure would be cheap to support and cheap to run. All the infrastructure is already there in the Linux kernel (or any other Unix-like): just charge me based on my customer\\'s pacct (process accounting) records.There are a lot of CRUD apps that would be just as good in a TUI as a GUI, and there are a lot of businesses built on CRUD apps.<HN_SEP>Can you select multi-line text from a box in a console application, without selecting entire lines ?<HN_SEP>Congratulations on the major (minor) release! \\nThe docs look absolutely awesome, looking forward to digging into them.<HN_SEP>Happy for CSS support, disappointed by the choice to go with Markdown-based documentation system instead of Sphinx as the more pythonic choice. Curious why some Python projects go that route when RST is much more extensible and Sphinx integrates so well with Python (including cross-linking to other Python packages docs and other niceties).<HN_SEP>Every time I look at an update to this library my jaw drops to the floor. Once I find some spare time, I\\'ve been meaning to dive into the source code to get a feel for how you\\'re pulling of the marvels that are rich and textualize. I\\'ve been \"terminal-oriented\" for at least a decade now and these frameworks feel like something out of a future I could have never imagined. Seriously impressive work Will, closely following your projects.<HN_SEP>I just wrapped up an internal TUI utility for interfacing with physical hardware. I was really happy with the output until I saw this... Now I got to rework it with the new UI. Very nice work!<HN_SEP>',\n",
       "  'gh_updated_time': '',\n",
       "  'gh_accessed_time': '',\n",
       "  'hn_accessed_time': '',\n",
       "  '_fully_initialized': True}}"
      ]
     },
     "execution_count": 202,
     "metadata": {},
     "output_type": "execute_result"
    }
   ],
   "source": [
    "# Retrieval by ID\n",
    "resp = es.get(index = 'python-index', id = 99)\n",
    "resp.body"
   ]
  },
  {
   "cell_type": "code",
   "execution_count": 139,
   "metadata": {},
   "outputs": [
    {
     "name": "stdout",
     "output_type": "stream",
     "text": [
      "+--------------------------------+--------+---------------------------------------------------+------------------------------------------------------------------------------------------------------+------------+\n",
      "| name                           | lang   | link                                              | description                                                                                          | score      |\n",
      "+--------------------------------+--------+---------------------------------------------------+------------------------------------------------------------------------------------------------------+------------+\n",
      "| internetarchive/brozzler       | Python | https://github.com/internetarchive/brozzler       | brozzler - distributed browser-based web crawler                                                     | 16.555544  |\n",
      "| ArchiveBox/ArchiveBox          | Python | https://github.com/ArchiveBox/ArchiveBox          | 🗃 Open source self-hosted web archiving. Takes URLs/browser history/bookmarks/Pocket/Pinboard/etc.,  | 16.272951  |\n",
      "| Rhizome-Conifer/conifer        | Python | https://github.com/Rhizome-Conifer/conifer        | Collect and revisit web pages.                                                                       | 14.5642185 |\n",
      "| oduwsdl/ipwb                   | Python | https://github.com/oduwsdl/ipwb                   | InterPlanetary Wayback: A distributed and persistent archive replay system using IPFS                | 13.954789  |\n",
      "| foxmask/django-th              | Python | https://github.com/foxmask/django-th              | :snake: Trigger Happy - The bus :bus: for your internet services                                     | 13.332349  |\n",
      "| wal-e/wal-e                    | Python | https://github.com/wal-e/wal-e                    | Continuous Archiving for Postgres                                                                    | 11.800074  |\n",
      "| laiwei/thepast                 | Python | https://github.com/laiwei/thepast                 | thepast.me ｜ 个人杂志计划                                                                           | 11.081706  |\n",
      "| ciur/papermerge                | Python | https://github.com/ciur/papermerge                | Open Source Document Management System for Digital Archives (Scanned Documents)                      | 10.944447  |\n",
      "| inAudible-NG/audible-activator | Python | https://github.com/inAudible-NG/audible-activator | Retrieves your activation data (activation_bytes) from Audible servers. Using https://github.com/inA | 10.522184  |\n",
      "| jordanwildon/Telepathy         | Python | https://github.com/jordanwildon/Telepathy         | Public release of Telepathy, an OSINT toolkit for investigating Telegram chats.                      | 9.574187   |\n",
      "+--------------------------------+--------+---------------------------------------------------+------------------------------------------------------------------------------------------------------+------------+\n"
     ]
    }
   ],
   "source": [
    "# Simple query\n",
    "resp = es.search(\n",
    "    index = 'python-index',\n",
    "    query = {\n",
    "        'match' : {\n",
    "            'readme' : 'web archiving service'\n",
    "        }\n",
    "    }\n",
    ")\n",
    "print_query(resp)"
   ]
  },
  {
   "cell_type": "code",
   "execution_count": 100,
   "metadata": {},
   "outputs": [
    {
     "name": "stdout",
     "output_type": "stream",
     "text": [
      "+--------------------------+------------+---------------------------------------------+------------------------------------------------------------------------------------------------------+------------+\n",
      "| name                     | lang       | link                                        | description                                                                                          | score      |\n",
      "+--------------------------+------------+---------------------------------------------+------------------------------------------------------------------------------------------------------+------------+\n",
      "| internetarchive/brozzler | Python     | https://github.com/internetarchive/brozzler | brozzler - distributed browser-based web crawler                                                     | 16.555544  |\n",
      "| ArchiveBox/ArchiveBox    | Python     | https://github.com/ArchiveBox/ArchiveBox    | 🗃 Open source self-hosted web archiving. Takes URLs/browser history/bookmarks/Pocket/Pinboard/etc.,  | 16.272951  |\n",
      "| Rhizome-Conifer/conifer  | Python     | https://github.com/Rhizome-Conifer/conifer  | Collect and revisit web pages.                                                                       | 14.5642185 |\n",
      "| bareos/bareos            | C++        | https://github.com/bareos/bareos            | Main repository with the code for the libraries and daemons                                          | 13.969994  |\n",
      "| oduwsdl/ipwb             | Python     | https://github.com/oduwsdl/ipwb             | InterPlanetary Wayback: A distributed and persistent archive replay system using IPFS                | 13.954789  |\n",
      "| webrecorder/pywb         | JavaScript | https://github.com/webrecorder/pywb         | Core Python Web Archiving Toolkit for replay and recording of web archives                           | 13.551554  |\n",
      "| croqaz/clean-mark        | JavaScript | https://github.com/croqaz/clean-mark        | Convert an article into clean text                                                                   | 13.409117  |\n",
      "| foxmask/django-th        | Python     | https://github.com/foxmask/django-th        | :snake: Trigger Happy - The bus :bus: for your internet services                                     | 13.332349  |\n",
      "| wal-e/wal-e              | Python     | https://github.com/wal-e/wal-e              | Continuous Archiving for Postgres                                                                    | 11.800074  |\n",
      "| sparkfun/phant           | JavaScript | https://github.com/sparkfun/phant           | the data logging engine behind data.sparkfun.com                                                     | 11.745163  |\n",
      "+--------------------------+------------+---------------------------------------------+------------------------------------------------------------------------------------------------------+------------+\n"
     ]
    }
   ],
   "source": [
    "# Query over indices\n",
    "resp = es.search(\n",
    "    index = '*-index',\n",
    "    query = {\n",
    "        'match' : {\n",
    "            'readme' : 'web archiving service'\n",
    "        }\n",
    "    }\n",
    ")\n",
    "print_query(resp)"
   ]
  },
  {
   "cell_type": "code",
   "execution_count": 208,
   "metadata": {},
   "outputs": [
    {
     "name": "stdout",
     "output_type": "stream",
     "text": [
      "+-----------------------------+------------+------------------------------------------------+------------------------------------------------------------------------------------------------------+-----------+\n",
      "| name                        | lang       | link                                           | description                                                                                          | score     |\n",
      "+-----------------------------+------------+------------------------------------------------+------------------------------------------------------------------------------------------------------+-----------+\n",
      "| webrecorder/pywb            | JavaScript | https://github.com/webrecorder/pywb            | Core Python Web Archiving Toolkit for replay and recording of web archives                           | 20.327332 |\n",
      "| croqaz/clean-mark           | JavaScript | https://github.com/croqaz/clean-mark           | Convert an article into clean text                                                                   | 20.113674 |\n",
      "| bareos/bareos               | C++        | https://github.com/bareos/bareos               | Main repository with the code for the libraries and daemons                                          | 18.160992 |\n",
      "| sparkfun/phant              | JavaScript | https://github.com/sparkfun/phant              | the data logging engine behind data.sparkfun.com                                                     | 17.617744 |\n",
      "| Postleaf/postleaf           | JavaScript | https://github.com/Postleaf/postleaf           | Simple, beautiful publishing with Node.js.                                                           | 17.603851 |\n",
      "| kanishka-linux/reminiscence | JavaScript | https://github.com/kanishka-linux/reminiscence | Self-Hosted Bookmark And Archive Manager                                                             | 17.012144 |\n",
      "| internetarchive/brozzler    | Python     | https://github.com/internetarchive/brozzler    | brozzler - distributed browser-based web crawler                                                     | 16.555544 |\n",
      "| ArchiveBox/ArchiveBox       | Python     | https://github.com/ArchiveBox/ArchiveBox       | 🗃 Open source self-hosted web archiving. Takes URLs/browser history/bookmarks/Pocket/Pinboard/etc.,  | 16.272951 |\n",
      "| askmike/gekko               | JavaScript | https://github.com/askmike/gekko               | A bitcoin trading bot written in node - https://gekko.wizb.it/                                       | 16.109213 |\n",
      "| gongwalker/ApiManager       | JavaScript | https://github.com/gongwalker/ApiManager       | 接口文档管理工具                                                                                     | 15.218642 |\n",
      "+-----------------------------+------------+------------------------------------------------+------------------------------------------------------------------------------------------------------+-----------+\n"
     ]
    }
   ],
   "source": [
    "# Index boosting\n",
    "resp = es.search(\n",
    "    index = '*-index',\n",
    "    query = {\n",
    "        'match' : {\n",
    "            'readme' : 'web archiving service'\n",
    "        }\n",
    "    },\n",
    "    indices_boost = [\n",
    "        {\n",
    "            'javascript-index': 1.5\n",
    "        },\n",
    "        {\n",
    "            'cpp-index': 1.3\n",
    "        }\n",
    "    ]\n",
    ")\n",
    "print_query(resp)"
   ]
  },
  {
   "cell_type": "code",
   "execution_count": 174,
   "metadata": {},
   "outputs": [
    {
     "name": "stdout",
     "output_type": "stream",
     "text": [
      "hn_comments > description > readme\n",
      "+-------------------------------+--------+--------------------------------------------------+------------------------------------------------------------------------------------------------------+-----------+\n",
      "| name                          | lang   | link                                             | description                                                                                          | score     |\n",
      "+-------------------------------+--------+--------------------------------------------------+------------------------------------------------------------------------------------------------------+-----------+\n",
      "| joerick/pyinstrument          | Python | https://github.com/joerick/pyinstrument          | 🚴 Call stack profiler for Python. Shows you why your code is slow!                                  | 120.22317 |\n",
      "| closeio/ciso8601              | Python | https://github.com/closeio/ciso8601              | Fast ISO8601 date time parser for Python written in C                                                | 84.477684 |\n",
      "| san089/goodreads_etl_pipeline | Python | https://github.com/san089/goodreads_etl_pipeline | An end-to-end GoodReads Data Pipeline for Building Data Lake, Data Warehouse and Analytics Platform. | 79.213135 |\n",
      "| tornadoweb/tornado            | Python | https://github.com/tornadoweb/tornado            | Tornado is a Python web framework and asynchronous networking library, originally developed at Frien | 77.239876 |\n",
      "| python/devguide               | Python | https://github.com/python/devguide               | The Python developer's guide                                                                         | 65.559105 |\n",
      "| mypaint/mypaint               | Python | https://github.com/mypaint/mypaint               | MyPaint is a simple drawing and painting program that works well with Wacom-style graphics tablets.  | 58.315464 |\n",
      "| apache/tvm                    | Python | https://github.com/apache/tvm                    | Open deep learning compiler stack for cpu, gpu and specialized accelerators                          | 57.87939  |\n",
      "| pytube/pytube                 | Python | https://github.com/pytube/pytube                 | A lightweight, dependency-free Python library (and command-line utility) for downloading YouTube Vid | 57.376026 |\n",
      "| netaddr/netaddr               | Python | https://github.com/netaddr/netaddr               | A network address manipulation library for Python                                                    | 57.154613 |\n",
      "| opsschool/curriculum          | Python | https://github.com/opsschool/curriculum          | Ops School Curriculum                                                                                | 56.70034  |\n",
      "+-------------------------------+--------+--------------------------------------------------+------------------------------------------------------------------------------------------------------+-----------+\n",
      "\n",
      "readme > hn_comments > description\n",
      "+------------------------------+--------+-------------------------------------------------+------------------------------------------------------------------------------------------------------+------------+\n",
      "| name                         | lang   | link                                            | description                                                                                          | score      |\n",
      "+------------------------------+--------+-------------------------------------------------+------------------------------------------------------------------------------------------------------+------------+\n",
      "| pts/pdfsizeopt               | Python | https://github.com/pts/pdfsizeopt               | PDF file size optimizer                                                                              | 141.55951  |\n",
      "| joerick/pyinstrument         | Python | https://github.com/joerick/pyinstrument         | 🚴 Call stack profiler for Python. Shows you why your code is slow!                                  | 117.4455   |\n",
      "| deepmind/sonnet              | Python | https://github.com/deepmind/sonnet              | TensorFlow-based neural network library                                                              | 111.27054  |\n",
      "| emilianavt/OpenSeeFace       | Python | https://github.com/emilianavt/OpenSeeFace       | Robust realtime face and facial landmark tracking on CPU with Unity integration                      | 107.20799  |\n",
      "| rocky/python-uncompyle6      | Python | https://github.com/rocky/python-uncompyle6      | A cross-version Python bytecode decompiler                                                           | 102.26491  |\n",
      "| awentzonline/image-analogies | Python | https://github.com/awentzonline/image-analogies | Generate image analogies using neural matching and blending.                                         | 100.630424 |\n",
      "| rocky/python-decompile3      | Python | https://github.com/rocky/python-decompile3      | Python decompiler for 3.7-3.8 Stripped down from uncompyle6 so we can refactor and start to fix up s | 99.572845  |\n",
      "| tarekziade/boom              | Python | https://github.com/tarekziade/boom              | A replacement for AB (Apache Bench)                                                                  | 94.14736   |\n",
      "| online-judge-tools/oj        | Python | https://github.com/online-judge-tools/oj        | Tools for various online judges. Downloading sample cases, generating additional test cases, testing | 93.397896  |\n",
      "| rhasspy/larynx               | Python | https://github.com/rhasspy/larynx               | End to end text to speech system using gruut and onnx                                                | 91.39226   |\n",
      "+------------------------------+--------+-------------------------------------------------+------------------------------------------------------------------------------------------------------+------------+\n"
     ]
    }
   ],
   "source": [
    "# More complex query\n",
    "resp = es.search(\n",
    "    index = 'python-index',\n",
    "    query = {\n",
    "        'multi_match': {\n",
    "            'query': 'find slowest part of program',\n",
    "            'fields': [\n",
    "                'readme^3',\n",
    "                'description^5',\n",
    "                'hn_comments^10'\n",
    "            ],\n",
    "            'type': 'best_fields'\n",
    "        }\n",
    "    }\n",
    ")\n",
    "print('hn_comments > description > readme')\n",
    "print_query(resp)\n",
    "print()\n",
    "\n",
    "# Rerun, but with different weights\n",
    "resp = es.search(\n",
    "    index = 'python-index',\n",
    "    query = {\n",
    "        'multi_match': {\n",
    "            'query': 'find slowest part of program',\n",
    "            'fields': [\n",
    "                'readme^10',\n",
    "                'description^3',\n",
    "                'hn_comments^5'\n",
    "            ],\n",
    "            'type': 'best_fields'\n",
    "        }\n",
    "    }\n",
    ")\n",
    "print('readme > hn_comments > description')\n",
    "print_query(resp)"
   ]
  },
  {
   "cell_type": "code",
   "execution_count": 140,
   "metadata": {},
   "outputs": [
    {
     "name": "stdout",
     "output_type": "stream",
     "text": [
      "+--------------------------+------------+---------------------------------------------+------------------------------------------------------------------------------------------------------+------------+----------------------------------------------------------------------------------------------------------------------------------------------------------------------------------------------------------------------------------------------------------------------------------------------------------------------------------------------------------------------------------------------------------------------------------------------------------------------------------------------------------------------------------------------------------------------------------------------------------------------------------------------------------------------------+\n",
      "| name                     | lang       | link                                        | description                                                                                          | score      | highlight                                                                                                                                                                                                                                                                                                                                                                                                                                                                                                                                                                                                                                                                  |\n",
      "+--------------------------+------------+---------------------------------------------+------------------------------------------------------------------------------------------------------+------------+----------------------------------------------------------------------------------------------------------------------------------------------------------------------------------------------------------------------------------------------------------------------------------------------------------------------------------------------------------------------------------------------------------------------------------------------------------------------------------------------------------------------------------------------------------------------------------------------------------------------------------------------------------------------------+\n",
      "| internetarchive/brozzler | Python     | https://github.com/internetarchive/brozzler | brozzler - distributed browser-based web crawler                                                     | 16.555544  | {'readme': ['60px\\n\\n|logo| brozzler\\n===============\\n\"browser\" \\\\| \"crawler\" = \"brozzler\"\\n\\nBrozzler is a distributed <em>web</em>', 'Brozzler is designed to work in conjunction with warcprox for <em>web</em> <em>archiving</em>.', 'Getting Started\\n---------------\\n\\nThe easiest way to get started with brozzler for <em>web</em> <em>archiving</em> is with', 'warcprox-auto``: this option tells brozzler to\\n   look for a healthy warcprox instance in the `rethinkdb <em>service</em>', 'registry\\n   <https://github.com/internetarchive/doublethink#<em>service</em>-registry>`_.']}                                                                     |\n",
      "| ArchiveBox/ArchiveBox    | Python     | https://github.com/ArchiveBox/ArchiveBox    | 🗃 Open source self-hosted web archiving. Takes URLs/browser history/bookmarks/Pocket/Pinboard/etc.,  | 16.272951  | {'readme': ['#<em>Web</em>-<em>Archiving</em>-Projects)...', 'Check it out to learn about some of the coolest <em>web</em> <em>archiving</em> projects and communities on the <em>web</em>!', '](https://github.com/ArchiveBox/ArchiveBox/wiki/<em>Web</em>-<em>Archiving</em>-Community#<em>web</em>-<em>archiving</em>-projects)', '/wiki/<em>Web</em>-<em>Archiving</em>-Community#communities)  \\n    _A collection of the most active internet <em>archiving</em>', '<em>Archiving</em> Community](https://github.com/ArchiveBox/ArchiveBox/wiki/<em>Web</em>-<em>Archiving</em>-Community)\\n\\n<br/>']}                                                               |\n",
      "| Rhizome-Conifer/conifer  | Python     | https://github.com/Rhizome-Conifer/conifer  | Collect and revisit web pages.                                                                       | 14.5642185 | {'readme': ['This repository represents the hosted <em>service</em> running at https://conifer.rhizome.org/, which can also', '<em>archiving</em> more portable and decentralized, as well as to serve users and developers with a broad range', '<em>archiving</em> tools) locally on the desktop.\\n* [Webrecorder Desktop](https://github.com/webrecorder/webrecorder-desktop', 'pywb can be used to deploy your own <em>web</em> archive access <em>service</em>.', 'archives, with a more direct connection to the live <em>web</em> and <em>web</em> archives.']}                                                                                                     |\n",
      "| bareos/bareos            | C++        | https://github.com/bareos/bareos            | Main repository with the code for the libraries and daemons                                          | 13.969994  | {'readme': ['/images/bareos-full-logo.png\" alt=\"Bareos\" width=\"50%\" height=\"50%\" />\\n\\n### Bareos\\n\\n[Bareos (Backup <em>Archiving</em>', 'Open Sourced)](https://www.bareos.org/) is a reliable, cross-network open source software for backup, <em>archiving</em>', 'NDMP tape support\\n- Always Incremental Backup scheme\\n- VMWare Plugin\\n- Encryption\\n- Scriptable CLI\\n- <em>web</em>']}                                                                                                                                                                                                                                                                           |\n",
      "| oduwsdl/ipwb             | Python     | https://github.com/oduwsdl/ipwb             | InterPlanetary Wayback: A distributed and persistent archive replay system using IPFS                | 13.954789  | {'readme': ['To handle this we use [<em>Service</em> Worker](https://developer.mozilla.org/en-US/docs/<em>Web</em>/API/Service_Worker_API', 'The replay system utilizes [<em>Service</em> Worker](https://developer.mozilla.org/en-US/docs/<em>Web</em>/API/Service_Worker_API', 'However, for security reason many <em>web</em> browsers have mandated HTTPS for the <em>Service</em> Worker API with only', '<em>Archiving</em> and Digital Libraries (WADL) 2016 workshop](http://fox.cs.vt.edu/wadl2016.html) in Newark,', '<em>Archiving</em> Conference (WAC) 2017](http://netpreserve.org/wac2017/) in London, England in June 2017.\\n-']}                          |\n",
      "| webrecorder/pywb         | JavaScript | https://github.com/webrecorder/pywb         | Core Python Web Archiving Toolkit for replay and recording of web archives                           | 13.551554  | {'readme': ['<em>Archiving</em> Tools for All\\n---------------------------\\n\\n`View the full pywb documentation <https://pywb.readthedocs.org', '>`_\\n\\n**pywb** is a Python (2 and 3) <em>web</em> <em>archiving</em> toolkit for replaying <em>web</em> archives large and small', 'This toolset forms the foundation of Webrecorder project, but also provides a generic <em>web</em> <em>archiving</em> toolkit', '* New recording capability to create new <em>web</em> archives from the live <em>web</em> or other archives.', '<em>archiving</em> tools.']}                                                                                                        |\n",
      "| croqaz/clean-mark        | JavaScript | https://github.com/croqaz/clean-mark        | Convert an article into clean text                                                                   | 13.409117  | {'readme': ['Downloads the content of a <em>web</em> page\\n1. Meta-scrape page details (title, author, date, etc)\\n1.', '<em>archiving</em> tools\\n\\n* https://github.com/croqaz/<em>web</em>-snap :: create \"perfect\" snapshots of <em>web</em> pages\\n* https', 'wabarc/cairn :: TypeScript implementation of Obelisk\\n* https://github.com/gildas-lormeau/SingleFile :: <em>Web</em>', 'Extension for Firefox/Chrome/Edge and CLI tool to save a <em>web</em> page in a single HTML file\\n\\nMore <em>archiving</em>', 'tools:\\n\\n* https://crlf.link/mem/<em>web</em>-<em>archiving</em>\\n* https://github.com/iipc/awesome-<em>web</em>-<em>archiving</em>\\n\\n-----']} |\n",
      "| foxmask/django-th        | Python     | https://github.com/foxmask/django-th        | :snake: Trigger Happy - The bus :bus: for your internet services                                     | 13.332349  | {'readme': ['==========\\n\\nAutomate the exchanges of the data between the applications and services you use on the <em>web</em>', 'Documentation\\n=============\\n\\nFor installation and settings, see http://trigger-happy.readthedocs.org/\\n\\n\\n\\n<em>Archiving</em>', 'tricks to handle Form Tools Wizard, required to create triggers ;) And many many others ones to load <em>service</em>']}                                                                                                                                                                                                                                                                          |\n",
      "| wal-e/wal-e              | Python     | https://github.com/wal-e/wal-e              | Continuous Archiving for Postgres                                                                    | 11.800074  | {'readme': ['WAL-E\\n=====\\n---------------------------------\\nContinuous <em>archiving</em> for Postgres\\n---------------------', '------------\\n\\nWAL-E is a program designed to perform continuous <em>archiving</em> of\\nPostgreSQL WAL files and', 'Like\\nWAL-E, it is piece of software that tends to be developed from the\\ncloud <em>service</em> provider set of', '[#why-detail-flag] ``backup-list --detail`` is slower (one <em>web</em>\\n   request per backup, rather than one', '<em>web</em> request per thousand\\n   backups or so) than ``backup-list``, and often (but not always) the\\n   information']}                                                |\n",
      "| sparkfun/phant           | JavaScript | https://github.com/sparkfun/phant           | the data logging engine behind data.sparkfun.com                                                     | 11.745163  | {'readme': ['travis-ci.org/sparkfun/phant)\\n\\n### Phant is No Longer in Operation\\n\\nUnfortunately Phant, our data-streaming <em>service</em>', ', is no longer in <em>service</em>\\nand has been discontinued.', 'secondary SparkFun repositories related to Phant have been [archived](https://github.com/blog/2460-<em>archiving</em>-repositories']}                                                                                                                                                                                                                                                                                                                   |\n",
      "+--------------------------+------------+---------------------------------------------+------------------------------------------------------------------------------------------------------+------------+----------------------------------------------------------------------------------------------------------------------------------------------------------------------------------------------------------------------------------------------------------------------------------------------------------------------------------------------------------------------------------------------------------------------------------------------------------------------------------------------------------------------------------------------------------------------------------------------------------------------------------------------------------------------------+\n"
     ]
    }
   ],
   "source": [
    "# Highlighting\n",
    "resp = es.search(\n",
    "    index = '*-index',\n",
    "    query = {\n",
    "        'match' : {\n",
    "            'readme' : 'web archiving service'\n",
    "        }\n",
    "    },\n",
    "    highlight = {\n",
    "        'fields': {\n",
    "            'readme':{}\n",
    "        }\n",
    "    }\n",
    ")\n",
    "print_query(resp, additonal_fields=['highlight'])"
   ]
  },
  {
   "cell_type": "code",
   "execution_count": 92,
   "metadata": {},
   "outputs": [
    {
     "name": "stdout",
     "output_type": "stream",
     "text": [
      "+-------------------------------------------+--------+--------------------------------------------------------------+-------------------------------------------------------------------------------------------------------------------------------------------------------------------------------------------------------------------------------------------+\n",
      "| name                                      | lang   | link                                                         | description                                                                                                                                                                                                                               |\n",
      "+-------------------------------------------+--------+--------------------------------------------------------------+-------------------------------------------------------------------------------------------------------------------------------------------------------------------------------------------------------------------------------------------+\n",
      "| reddit-archive/reddit                     | Python | https://github.com/reddit-archive/reddit                     | historical code from reddit.com                                                                                                                                                                                                           |\n",
      "| facebookarchive/augmented-traffic-control | Python | https://github.com/facebookarchive/augmented-traffic-control | Augmented Traffic Control: A tool to simulate network conditions                                                                                                                                                                          |\n",
      "| facebookarchive/huxley                    | Python | https://github.com/facebookarchive/huxley                    | A testing system for catching visual regressions in Web applications.                                                                                                                                                                     |\n",
      "| internetarchive/openlibrary               | Python | https://github.com/internetarchive/openlibrary               | One webpage for every book ever published!                                                                                                                                                                                                |\n",
      "| facebookarchive/codemod                   | Python | https://github.com/facebookarchive/codemod                   | Codemod is a tool/library to assist you with large-scale codebase refactors that can be partially automated but still require human oversight and occasional intervention. Codemod was developed at Facebook and released as open source. |\n",
      "| facebookarchive/python-instagram          | Python | https://github.com/facebookarchive/python-instagram          | Python Client for Instagram API                                                                                                                                                                                                           |\n",
      "| docker-archive/docker-registry            | Python | https://github.com/docker-archive/docker-registry            | This is **DEPRECATED**! Please go to https://github.com/docker/distribution                                                                                                                                                               |\n",
      "| timhutton/twitter-archive-parser          | Python | https://github.com/timhutton/twitter-archive-parser          | Python code to parse a Twitter archive and output in various ways                                                                                                                                                                         |\n",
      "| facebookarchive/redis-faina               | Python | https://github.com/facebookarchive/redis-faina               | A query analyzer that parses Redis' MONITOR command for counter/timing stats about query patterns                                                                                                                                         |\n",
      "| facebookarchive/python-nubia              | Python | https://github.com/facebookarchive/python-nubia              | A command-line and interactive shell framework.                                                                                                                                                                                           |\n",
      "| googlearchive/PyDrive                     | Python | https://github.com/googlearchive/PyDrive                     | Google Drive API Python wrapper library                                                                                                                                                                                                   |\n",
      "| jjjake/internetarchive                    | Python | https://github.com/jjjake/internetarchive                    | A Python and Command-Line Interface to Archive.org                                                                                                                                                                                        |\n",
      "+-------------------------------------------+--------+--------------------------------------------------------------+-------------------------------------------------------------------------------------------------------------------------------------------------------------------------------------------------------------------------------------------+\n"
     ]
    }
   ],
   "source": [
    "# SQL\n",
    "resp = es.sql.query(\n",
    "    query = '''\n",
    "    SELECT \"name\", \"lang\", \"link\", \"description\" FROM \"python-index\" WHERE \"name\" LIKE '%archive%' HAVING \"stars\" > 1000\n",
    "    '''\n",
    ")\n",
    "print_sql(resp)"
   ]
  },
  {
   "cell_type": "code",
   "execution_count": 144,
   "metadata": {},
   "outputs": [
    {
     "name": "stdout",
     "output_type": "stream",
     "text": [
      "Python\n",
      "+---------------+\n",
      "| COUNT(\"name\") |\n",
      "+---------------+\n",
      "| 1480          |\n",
      "+---------------+\n",
      "\n",
      "C++\n",
      "+---------------+\n",
      "| COUNT(\"name\") |\n",
      "+---------------+\n",
      "| 68            |\n",
      "+---------------+\n",
      "\n",
      "JavaScript\n",
      "+---------------+\n",
      "| COUNT(\"name\") |\n",
      "+---------------+\n",
      "| 45            |\n",
      "+---------------+\n",
      "\n"
     ]
    }
   ],
   "source": [
    "# Use SQL to find insights\n",
    "for lang in ['Python', 'C++', 'JavaScript']:\n",
    "    lang_safe = lang.lower().replace('++', 'pp')\n",
    "    resp = es.sql.query(\n",
    "        query = '''\n",
    "        SELECT COUNT(\"name\") FROM \"{}-index\" WHERE \"readme_type\"='rst'\n",
    "        '''.format(lang_safe)\n",
    "    )\n",
    "    print(lang)\n",
    "    print_sql(resp)\n",
    "    print()"
   ]
  },
  {
   "cell_type": "code",
   "execution_count": 211,
   "metadata": {},
   "outputs": [
    {
     "name": "stdout",
     "output_type": "stream",
     "text": [
      "+-----------------------------+--------+------------------------------------------------+------------------------------------------------------------------------------------------------------+-----------+\n",
      "| name                        | lang   | link                                           | description                                                                                          | score     |\n",
      "+-----------------------------+--------+------------------------------------------------+------------------------------------------------------------------------------------------------------+-----------+\n",
      "| Textualize/rich             | Python | https://github.com/Textualize/rich             | Rich is a Python library for rich text and beautiful formatting in the terminal.                     | 184.1525  |\n",
      "| colour-science/colour       | Python | https://github.com/colour-science/colour       | Colour Science for Python                                                                            | 138.85748 |\n",
      "| bczsalba/pytermgui          | Python | https://github.com/bczsalba/pytermgui          | Python TUI framework with mouse support, modular widget system, customizable and rapid terminal mark | 135.06398 |\n",
      "| Wramberg/TerminalView       | Python | https://github.com/Wramberg/TerminalView       | Terminal inside Sublime Text 3 view                                                                  | 133.36209 |\n",
      "| mikf/gallery-dl             | Python | https://github.com/mikf/gallery-dl             | Command-line program to download image galleries and collections from several image hosting sites    | 133.25836 |\n",
      "| Textualize/rich-cli         | Python | https://github.com/Textualize/rich-cli         | Rich-cli is a command line toolbox for fancy output in the terminal                                  | 128.06418 |\n",
      "| mantl/mantl                 | Python | https://github.com/mantl/mantl                 | Mantl is a modern platform for rapidly deploying globally distributed services                       | 125.15211 |\n",
      "| asciimoo/drawille           | Python | https://github.com/asciimoo/drawille           | Pixel graphics in terminal with unicode braille characters                                           | 115.72996 |\n",
      "| pywebio/PyWebIO             | Python | https://github.com/pywebio/PyWebIO             | Write interactive web app in script way.                                                             | 115.05949 |\n",
      "| ashawkey/stable-dreamfusion | Python | https://github.com/ashawkey/stable-dreamfusion | A pytorch implementation of text-to-3D dreamfusion, powered by stable diffusion.                     | 113.16307 |\n",
      "+-----------------------------+--------+------------------------------------------------+------------------------------------------------------------------------------------------------------+-----------+\n"
     ]
    }
   ],
   "source": [
    "SEARCH_QUERY = 'terminal print color and rich text'\n",
    "resp = es.search(\n",
    "    index = 'python-index',\n",
    "    query = {\n",
    "        'multi_match': {\n",
    "            'query': SEARCH_QUERY,\n",
    "            'fields': [\n",
    "                'readme^3',\n",
    "                'description^5',\n",
    "                'hn_comments^10'\n",
    "            ],\n",
    "            'type': 'best_fields'\n",
    "        }\n",
    "    }\n",
    ")\n",
    "print_query(resp)"
   ]
  },
  {
   "cell_type": "code",
   "execution_count": null,
   "metadata": {},
   "outputs": [],
   "source": []
  }
 ],
 "metadata": {
  "kernelspec": {
   "display_name": "Python 3.9.12 ('base')",
   "language": "python",
   "name": "python3"
  },
  "language_info": {
   "codemirror_mode": {
    "name": "ipython",
    "version": 3
   },
   "file_extension": ".py",
   "mimetype": "text/x-python",
   "name": "python",
   "nbconvert_exporter": "python",
   "pygments_lexer": "ipython3",
   "version": "3.8.13"
  },
  "orig_nbformat": 4,
  "vscode": {
   "interpreter": {
    "hash": "69ebb68546383bf02d706952417dc7254f0671422501931c86efacdfc1edf3d5"
   }
  }
 },
 "nbformat": 4,
 "nbformat_minor": 2
}
