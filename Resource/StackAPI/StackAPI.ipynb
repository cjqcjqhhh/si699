{
 "cells": [
  {
   "cell_type": "code",
   "execution_count": 3,
   "metadata": {},
   "outputs": [
    {
     "name": "stderr",
     "output_type": "stream",
     "text": [
      "magi_dataclasses - INFO - Loaded 5000 repos to D:\\OneDrive - Umich\\UMSI\\2023 Winter\\SI699\\ghv9_tokenized.json\n"
     ]
    }
   ],
   "source": [
    "from stackapi import StackAPI\n",
    "from magi_dataclasses import *\n",
    "github_dataset = GitHubDataset(\n",
    "    empty = False,\n",
    "    file_path = './ghv9_tokenized.json',\n",
    "    load_nlp = True,\n",
    "    load_graph = False\n",
    ")\n",
    "SITE = StackAPI('stackoverflow')"
   ]
  },
  {
   "cell_type": "code",
   "execution_count": 4,
   "metadata": {},
   "outputs": [
    {
     "data": {
      "text/plain": [
       "'public-apis/public-apis'"
      ]
     },
     "execution_count": 4,
     "metadata": {},
     "output_type": "execute_result"
    }
   ],
   "source": [
    "github_dataset[0].name"
   ]
  },
  {
   "cell_type": "code",
   "execution_count": 6,
   "metadata": {},
   "outputs": [
    {
     "data": {
      "text/plain": [
       "GitHubRepo(name='joerick/pyinstrument', stars=4888, description='🚴\\xa0Call stack profiler for Python. Shows you why your code is slow!', _fully_initialized=True)"
      ]
     },
     "execution_count": 6,
     "metadata": {},
     "output_type": "execute_result"
    }
   ],
   "source": [
    "github_dataset['joerick/pyinstrument']"
   ]
  },
  {
   "cell_type": "code",
   "execution_count": 7,
   "metadata": {},
   "outputs": [
    {
     "data": {
      "text/plain": [
       "'🚴\\xa0Call stack profiler for Python. Shows you why your code is slow!'"
      ]
     },
     "execution_count": 7,
     "metadata": {},
     "output_type": "execute_result"
    }
   ],
   "source": [
    "github_dataset['joerick/pyinstrument'].description"
   ]
  },
  {
   "cell_type": "code",
   "execution_count": null,
   "metadata": {},
   "outputs": [],
   "source": [
    "SITE.page_size = 10\n",
    "SITE.max_pages = 1"
   ]
  },
  {
   "cell_type": "code",
   "execution_count": 7,
   "metadata": {},
   "outputs": [
    {
     "data": {
      "text/plain": [
       "[{'tags': ['linux', 'conda'],\n",
       "  'owner': {'reputation': 1146,\n",
       "   'user_id': 2446114,\n",
       "   'user_type': 'registered',\n",
       "   'accept_rate': 85,\n",
       "   'profile_image': 'https://www.gravatar.com/avatar/d8426ccefb9cabee36063dde96d60950?s=256&d=identicon&r=PG',\n",
       "   'display_name': 'ohnoplus',\n",
       "   'link': 'https://stackoverflow.com/users/2446114/ohnoplus'},\n",
       "  'is_answered': False,\n",
       "  'view_count': 741,\n",
       "  'answer_count': 0,\n",
       "  'score': 0,\n",
       "  'last_activity_date': 1522710444,\n",
       "  'creation_date': 1522710444,\n",
       "  'question_id': 49619988,\n",
       "  'content_license': 'CC BY-SA 3.0',\n",
       "  'link': 'https://stackoverflow.com/questions/49619988/errors-building-a-condas-environment-from-scratch',\n",
       "  'title': 'errors building a condas environment from scratch'}]"
      ]
     },
     "execution_count": 7,
     "metadata": {},
     "output_type": "execute_result"
    }
   ],
   "source": [
    "q = github_dataset['joerick/pyinstrument'].name\n",
    "qs = SITE.fetch(f'search/advanced', q=q, sort='votes')['items']\n",
    "qs"
   ]
  },
  {
   "cell_type": "code",
   "execution_count": 31,
   "metadata": {},
   "outputs": [
    {
     "data": {
      "text/plain": [
       "{'backoff': 0,\n",
       " 'has_more': False,\n",
       " 'page': 1,\n",
       " 'quota_max': 300,\n",
       " 'quota_remaining': 189,\n",
       " 'total': 0,\n",
       " 'items': [{'owner': {'reputation': 1014,\n",
       "    'user_id': 10317745,\n",
       "    'user_type': 'registered',\n",
       "    'profile_image': 'https://www.gravatar.com/avatar/eb836413ed2ba879b9e9db198e9a4fb2?s=256&d=identicon&r=PG&f=1',\n",
       "    'display_name': 'Ingo',\n",
       "    'link': 'https://stackoverflow.com/users/10317745/ingo'},\n",
       "   'is_accepted': False,\n",
       "   'score': 1,\n",
       "   'last_activity_date': 1653570527,\n",
       "   'last_edit_date': 1653570527,\n",
       "   'creation_date': 1653569935,\n",
       "   'answer_id': 72392218,\n",
       "   'question_id': 13493288,\n",
       "   'content_license': 'CC BY-SA 4.0'},\n",
       "  {'owner': {'reputation': 994,\n",
       "    'user_id': 4155686,\n",
       "    'user_type': 'registered',\n",
       "    'profile_image': 'https://i.stack.imgur.com/iDRyw.jpg?s=256&g=1',\n",
       "    'display_name': 'Roman Scher',\n",
       "    'link': 'https://stackoverflow.com/users/4155686/roman-scher'},\n",
       "   'is_accepted': False,\n",
       "   'score': 2,\n",
       "   'last_activity_date': 1643342886,\n",
       "   'creation_date': 1643342886,\n",
       "   'answer_id': 70888702,\n",
       "   'question_id': 13493288,\n",
       "   'content_license': 'CC BY-SA 4.0'},\n",
       "  {'owner': {'reputation': 65,\n",
       "    'user_id': 4073229,\n",
       "    'user_type': 'registered',\n",
       "    'profile_image': 'https://www.gravatar.com/avatar/08eec2c0e178a952d485dd74930f46ae?s=256&d=identicon&r=PG&f=1',\n",
       "    'display_name': 'Juan Esteban Florez',\n",
       "    'link': 'https://stackoverflow.com/users/4073229/juan-esteban-florez'},\n",
       "   'is_accepted': False,\n",
       "   'score': 5,\n",
       "   'last_activity_date': 1600024388,\n",
       "   'last_edit_date': 1600024388,\n",
       "   'creation_date': 1571248354,\n",
       "   'answer_id': 58419071,\n",
       "   'question_id': 13493288,\n",
       "   'content_license': 'CC BY-SA 4.0'},\n",
       "  {'owner': {'reputation': 3057,\n",
       "    'user_id': 438249,\n",
       "    'user_type': 'registered',\n",
       "    'accept_rate': 44,\n",
       "    'profile_image': 'https://www.gravatar.com/avatar/fb9db40afbf4beeb18b49e9cedc85e6a?s=256&d=identicon&r=PG',\n",
       "    'display_name': 'Brecht Machiels',\n",
       "    'link': 'https://stackoverflow.com/users/438249/brecht-machiels'},\n",
       "   'is_accepted': False,\n",
       "   'score': 3,\n",
       "   'last_activity_date': 1592922071,\n",
       "   'creation_date': 1592922071,\n",
       "   'answer_id': 62536947,\n",
       "   'question_id': 13493288,\n",
       "   'content_license': 'CC BY-SA 4.0'},\n",
       "  {'owner': {'reputation': 14024,\n",
       "    'user_id': 202834,\n",
       "    'user_type': 'registered',\n",
       "    'profile_image': 'https://www.gravatar.com/avatar/a1fcaec6ecd03cbf64c500988b1d0a8d?s=256&d=identicon&r=PG',\n",
       "    'display_name': 'Peterino',\n",
       "    'link': 'https://stackoverflow.com/users/202834/peterino'},\n",
       "   'is_accepted': False,\n",
       "   'score': 13,\n",
       "   'last_activity_date': 1573905944,\n",
       "   'last_edit_date': 1573905944,\n",
       "   'creation_date': 1572279465,\n",
       "   'answer_id': 58594599,\n",
       "   'question_id': 13493288,\n",
       "   'content_license': 'CC BY-SA 4.0'},\n",
       "  {'owner': {'reputation': 20683,\n",
       "    'user_id': 137901,\n",
       "    'user_type': 'registered',\n",
       "    'accept_rate': 100,\n",
       "    'profile_image': 'https://www.gravatar.com/avatar/1d40af73bd088f5f7b487b42b799881d?s=256&d=identicon&r=PG',\n",
       "    'display_name': 'hpk42',\n",
       "    'link': 'https://stackoverflow.com/users/137901/hpk42'},\n",
       "   'is_accepted': True,\n",
       "   'score': 15,\n",
       "   'last_activity_date': 1353524915,\n",
       "   'creation_date': 1353524915,\n",
       "   'answer_id': 13500346,\n",
       "   'question_id': 13493288,\n",
       "   'content_license': 'CC BY-SA 3.0'},\n",
       "  {'owner': {'reputation': 3955,\n",
       "    'user_id': 1504837,\n",
       "    'user_type': 'registered',\n",
       "    'profile_image': 'https://www.gravatar.com/avatar/f28abdcda2ee45f070d7bfe2520caa68?s=256&d=identicon&r=PG',\n",
       "    'display_name': 'sean',\n",
       "    'link': 'https://stackoverflow.com/users/1504837/sean'},\n",
       "   'is_accepted': False,\n",
       "   'score': -3,\n",
       "   'last_activity_date': 1353508784,\n",
       "   'creation_date': 1353508784,\n",
       "   'answer_id': 13495619,\n",
       "   'question_id': 13493288,\n",
       "   'content_license': 'CC BY-SA 3.0'},\n",
       "  {'owner': {'reputation': 777,\n",
       "    'user_id': 1286750,\n",
       "    'user_type': 'registered',\n",
       "    'profile_image': 'https://www.gravatar.com/avatar/ee1cb4ee134eb4265ba257dba709982d?s=256&d=identicon&r=PG',\n",
       "    'display_name': 'Szczad',\n",
       "    'link': 'https://stackoverflow.com/users/1286750/szczad'},\n",
       "   'is_accepted': False,\n",
       "   'score': -1,\n",
       "   'last_activity_date': 1353503927,\n",
       "   'creation_date': 1353503927,\n",
       "   'answer_id': 13494177,\n",
       "   'question_id': 13493288,\n",
       "   'content_license': 'CC BY-SA 3.0'},\n",
       "  {'owner': {'reputation': 1773,\n",
       "    'user_id': 347735,\n",
       "    'user_type': 'registered',\n",
       "    'accept_rate': 46,\n",
       "    'profile_image': 'https://www.gravatar.com/avatar/cc515e576cb9b93c18168daee967e401?s=256&d=identicon&r=PG',\n",
       "    'display_name': 'Maxim',\n",
       "    'link': 'https://stackoverflow.com/users/347735/maxim'},\n",
       "   'is_accepted': False,\n",
       "   'score': 6,\n",
       "   'last_activity_date': 1353502791,\n",
       "   'creation_date': 1353502791,\n",
       "   'answer_id': 13493842,\n",
       "   'question_id': 13493288,\n",
       "   'content_license': 'CC BY-SA 3.0'},\n",
       "  {'owner': {'reputation': 16724,\n",
       "    'user_id': 1235039,\n",
       "    'user_type': 'registered',\n",
       "    'accept_rate': 62,\n",
       "    'profile_image': 'https://www.gravatar.com/avatar/230bedd1687c5c8690bed7c87c5942e4?s=256&d=identicon&r=PG',\n",
       "    'display_name': 'aquavitae',\n",
       "    'link': 'https://stackoverflow.com/users/1235039/aquavitae'},\n",
       "   'is_accepted': False,\n",
       "   'score': 3,\n",
       "   'last_activity_date': 1353501227,\n",
       "   'creation_date': 1353501227,\n",
       "   'answer_id': 13493390,\n",
       "   'question_id': 13493288,\n",
       "   'content_license': 'CC BY-SA 3.0'},\n",
       "  {'owner': {'reputation': 5686,\n",
       "    'user_id': 1013153,\n",
       "    'user_type': 'registered',\n",
       "    'accept_rate': 83,\n",
       "    'profile_image': 'https://www.gravatar.com/avatar/7bbe3b20fadfd19f40b0fec91f14aa2f?s=256&d=identicon&r=PG',\n",
       "    'display_name': 'jonvuri',\n",
       "    'link': 'https://stackoverflow.com/users/1013153/jonvuri'},\n",
       "   'is_accepted': False,\n",
       "   'score': 3,\n",
       "   'last_activity_date': 1353501198,\n",
       "   'creation_date': 1353501198,\n",
       "   'answer_id': 13493381,\n",
       "   'question_id': 13493288,\n",
       "   'content_license': 'CC BY-SA 3.0'}]}"
      ]
     },
     "execution_count": 31,
     "metadata": {},
     "output_type": "execute_result"
    }
   ],
   "source": [
    "SITE.fetch('questions/{ids}/answers', ids=13493288, body=True)"
   ]
  },
  {
   "cell_type": "code",
   "execution_count": 33,
   "metadata": {},
   "outputs": [
    {
     "data": {
      "text/plain": [
       "{'backoff': 0,\n",
       " 'has_more': False,\n",
       " 'page': 1,\n",
       " 'quota_max': 300,\n",
       " 'quota_remaining': 187,\n",
       " 'total': 0,\n",
       " 'items': [{'owner': {'reputation': 994,\n",
       "    'user_id': 4155686,\n",
       "    'user_type': 'registered',\n",
       "    'profile_image': 'https://i.stack.imgur.com/iDRyw.jpg?s=256&g=1',\n",
       "    'display_name': 'Roman Scher',\n",
       "    'link': 'https://stackoverflow.com/users/4155686/roman-scher'},\n",
       "   'is_accepted': False,\n",
       "   'score': 2,\n",
       "   'last_activity_date': 1643342886,\n",
       "   'creation_date': 1643342886,\n",
       "   'answer_id': 70888702,\n",
       "   'question_id': 13493288,\n",
       "   'content_license': 'CC BY-SA 4.0',\n",
       "   'body': '<p>For Python 3.5+, you can use the simpler <strong><a href=\"https://docs.python.org/3/library/subprocess.html#subprocess.run\" rel=\"nofollow noreferrer\">subprocess.run</a></strong> to call your CLI command from your test.</p>\\n<p>Using <a href=\"https://github.com/pytest-dev/pytest\" rel=\"nofollow noreferrer\">pytest</a>:</p>\\n<pre><code>import subprocess\\n\\ndef test_command__works_properly():\\n    try:\\n        result = subprocess.run([\\'command\\', \\'--argument\\', \\'value\\'], check=True, capture_output=True, text=True)\\n    except subprocess.CalledProcessError as error:\\n        print(error.stdout)\\n        print(error.stderr)\\n        raise error\\n</code></pre>\\n<p>The output can be accessed via <code>result.stdout</code>, <code>result.stderr</code>, and <code>result.returncode</code> if needed.</p>\\n<p>The <code>check</code> parameter causes an exception to be raised if an error occurs. Note Python 3.7+ is required for the <code>capture_output</code> and <code>text</code> parameters, which simplify capturing and reading stdout/stderr.</p>\\n'}]}"
      ]
     },
     "execution_count": 33,
     "metadata": {},
     "output_type": "execute_result"
    }
   ],
   "source": [
    "SITE.fetch('answers/{ids}', ids=70888702, filter='withbody')"
   ]
  },
  {
   "cell_type": "code",
   "execution_count": null,
   "metadata": {},
   "outputs": [],
   "source": []
  }
 ],
 "metadata": {
  "kernelspec": {
   "display_name": "Python 3",
   "language": "python",
   "name": "python3"
  },
  "language_info": {
   "codemirror_mode": {
    "name": "ipython",
    "version": 3
   },
   "file_extension": ".py",
   "mimetype": "text/x-python",
   "name": "python",
   "nbconvert_exporter": "python",
   "pygments_lexer": "ipython3",
   "version": "3.9.7"
  },
  "vscode": {
   "interpreter": {
    "hash": "ba0755866a87cecb8275fb26ba2664b744f4b1fd20d0537717179e05d7679229"
   }
  }
 },
 "nbformat": 4,
 "nbformat_minor": 2
}
